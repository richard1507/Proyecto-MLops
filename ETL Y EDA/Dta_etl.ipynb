{
  "cells": [
    {
      "cell_type": "markdown",
      "metadata": {},
      "source": [
        "## PROCESO ETL"
      ]
    },
    {
      "cell_type": "code",
      "execution_count": 1,
      "metadata": {
        "id": "yTAwjxNRDSy5"
      },
      "outputs": [],
      "source": [
        "import pandas as pd\n",
        "import numpy as np\n",
        "import datetime as dt\n",
        "import re\n",
        "import ast"
      ]
    },
    {
      "cell_type": "markdown",
      "metadata": {
        "id": "3g4whpJgK46x"
      },
      "source": [
        "####  Datasets"
      ]
    },
    {
      "cell_type": "code",
      "execution_count": 8,
      "metadata": {
        "colab": {
          "base_uri": "https://localhost:8080/"
        },
        "id": "VqMa1TsoDjw2",
        "outputId": "4673eae5-10ba-43b0-f58f-3e9617f3a497"
      },
      "outputs": [],
      "source": [
        "#Ingresamos link del Dataset Movies\n",
        "url_movies = \"https://drive.google.com/uc?export=download&id=1Rp7SNuoRnmdoQMa5LWXuK4i7W1ILblYb\""
      ]
    },
    {
      "cell_type": "code",
      "execution_count": 12,
      "metadata": {
        "colab": {
          "base_uri": "https://localhost:8080/"
        },
        "id": "KIMYgY3ihcLB",
        "outputId": "84251831-30ac-4d85-c558-0bf34416d663"
      },
      "outputs": [],
      "source": [
        "#Ingresamos Ruta del Dataset Creditos\n",
        "creditos = \"creditos.parquet\""
      ]
    },
    {
      "cell_type": "markdown",
      "metadata": {
        "id": "bkhaI5BgLlet"
      },
      "source": [
        "#### dataframes"
      ]
    },
    {
      "cell_type": "code",
      "execution_count": 10,
      "metadata": {
        "colab": {
          "base_uri": "https://localhost:8080/"
        },
        "id": "naa77Q0WDnfs",
        "outputId": "4360514c-fade-4303-fff0-a850747d9b43"
      },
      "outputs": [
        {
          "name": "stderr",
          "output_type": "stream",
          "text": [
            "C:\\Users\\USUARIO\\AppData\\Local\\Temp\\ipykernel_15120\\879329235.py:2: DtypeWarning: Columns (10) have mixed types. Specify dtype option on import or set low_memory=False.\n",
            "  df = pd.read_csv(url_movies)\n"
          ]
        }
      ],
      "source": [
        "#dataframe movies\n",
        "df = pd.read_csv(url_movies)"
      ]
    },
    {
      "cell_type": "code",
      "execution_count": 13,
      "metadata": {
        "colab": {
          "base_uri": "https://localhost:8080/"
        },
        "id": "gfuMUFDsn4ff",
        "outputId": "8e42907e-bec1-4947-d348-2d2772c0d830"
      },
      "outputs": [],
      "source": [
        "#dataframe creditos\n",
        "dfc = pd.read_parquet(creditos)"
      ]
    },
    {
      "cell_type": "markdown",
      "metadata": {
        "id": "LYSI_BmnohjV"
      },
      "source": [
        "#### Transformaciones"
      ]
    },
    {
      "cell_type": "code",
      "execution_count": 12,
      "metadata": {
        "colab": {
          "base_uri": "https://localhost:8080/"
        },
        "id": "khSfe_EhDSy7",
        "outputId": "058a2a77-64a5-4a76-9749-1e61806a61d2"
      },
      "outputs": [],
      "source": [
        "# Eliminamos columnas que no necesitamos\n",
        "df.drop(columns=['video','imdb_id', 'adult', 'original_title', 'poster_path', 'homepage'], inplace=True)"
      ]
    },
    {
      "cell_type": "code",
      "execution_count": 64,
      "metadata": {
        "colab": {
          "base_uri": "https://localhost:8080/",
          "height": 666
        },
        "id": "Z-2iqlp8DSy7",
        "outputId": "f2bfc41b-bacf-4c89-aa4a-4bfb106e7099"
      },
      "outputs": [
        {
          "data": {
            "text/plain": [
              "budget                      0\n",
              "genres                      0\n",
              "id                          0\n",
              "original_language          11\n",
              "overview                  954\n",
              "popularity                  5\n",
              "production_companies        3\n",
              "production_countries        3\n",
              "release_date               87\n",
              "revenue                     0\n",
              "runtime                   263\n",
              "spoken_languages            6\n",
              "status                     87\n",
              "tagline                 25054\n",
              "title                       6\n",
              "vote_average                6\n",
              "vote_count                  6\n",
              "dtype: int64"
            ]
          },
          "execution_count": 64,
          "metadata": {},
          "output_type": "execute_result"
        }
      ],
      "source": [
        "# valores nulos\n",
        "df.isnull().sum()"
      ]
    },
    {
      "cell_type": "code",
      "execution_count": 16,
      "metadata": {
        "colab": {
          "base_uri": "https://localhost:8080/",
          "height": 666
        },
        "id": "5yoZKNoFn26g",
        "outputId": "38db84c9-2553-45da-9de7-472f775b954d"
      },
      "outputs": [
        {
          "data": {
            "text/plain": [
              "belongs_to_collection     object\n",
              "budget                    object\n",
              "genres                    object\n",
              "id                        object\n",
              "original_language         object\n",
              "overview                  object\n",
              "popularity                object\n",
              "production_companies      object\n",
              "production_countries      object\n",
              "release_date              object\n",
              "revenue                  float64\n",
              "runtime                  float64\n",
              "spoken_languages          object\n",
              "status                    object\n",
              "tagline                   object\n",
              "title                     object\n",
              "vote_average             float64\n",
              "vote_count               float64\n",
              "dtype: object"
            ]
          },
          "execution_count": 16,
          "metadata": {},
          "output_type": "execute_result"
        }
      ],
      "source": [
        "#Imprimir tipo de dato de cada atributo\n",
        "df.dtypes"
      ]
    },
    {
      "cell_type": "markdown",
      "metadata": {
        "id": "p7xUuAF2DSy7"
      },
      "source": [
        "#### Reemplazamos los valores nulos de Revenue y Budget por 0"
      ]
    },
    {
      "cell_type": "code",
      "execution_count": 17,
      "metadata": {
        "colab": {
          "base_uri": "https://localhost:8080/"
        },
        "id": "I4xMChGuDSy7",
        "outputId": "83dc4a71-80ef-4e4c-89ce-94eba695b7e3"
      },
      "outputs": [],
      "source": [
        "df[\"revenue\"] = df[\"revenue\"].fillna(0)\n",
        "df[\"budget\"] = df[\"budget\"].fillna(0)"
      ]
    },
    {
      "cell_type": "code",
      "execution_count": 18,
      "metadata": {
        "colab": {
          "base_uri": "https://localhost:8080/",
          "height": 666
        },
        "id": "V50tADs7DSy8",
        "outputId": "92a4ccd6-168b-43b8-d902-d213f4df133e"
      },
      "outputs": [
        {
          "data": {
            "text/plain": [
              "belongs_to_collection    40972\n",
              "budget                       0\n",
              "genres                       0\n",
              "id                           0\n",
              "original_language           11\n",
              "overview                   954\n",
              "popularity                   5\n",
              "production_companies         3\n",
              "production_countries         3\n",
              "release_date                87\n",
              "revenue                      0\n",
              "runtime                    263\n",
              "spoken_languages             6\n",
              "status                      87\n",
              "tagline                  25054\n",
              "title                        6\n",
              "vote_average                 6\n",
              "vote_count                   6\n",
              "dtype: int64"
            ]
          },
          "execution_count": 18,
          "metadata": {},
          "output_type": "execute_result"
        }
      ],
      "source": [
        "#Comprobar nuevamente los valores nulos\n",
        "df.isnull().sum()"
      ]
    },
    {
      "cell_type": "markdown",
      "metadata": {
        "id": "S2933flKDSy8"
      },
      "source": [
        "### Desanidar el atributo belongs_to_collection"
      ]
    },
    {
      "cell_type": "code",
      "execution_count": 22,
      "metadata": {
        "colab": {
          "base_uri": "https://localhost:8080/",
          "height": 164
        },
        "id": "xZWqTCpkDSy8",
        "outputId": "a6a88ece-10f7-4781-a3bc-6a589d7a9932"
      },
      "outputs": [
        {
          "data": {
            "text/plain": [
              "0    {'id': 10194, 'name': 'Toy Story Collection', ...\n",
              "1                                                  NaN\n",
              "2    {'id': 119050, 'name': 'Grumpy Old Men Collect...\n",
              "3                                                  NaN\n",
              "4    {'id': 96871, 'name': 'Father of the Bride Col...\n",
              "Name: belongs_to_collection, dtype: object"
            ]
          },
          "execution_count": 22,
          "metadata": {},
          "output_type": "execute_result"
        }
      ],
      "source": [
        "df['belongs_to_collection'].head(5)"
      ]
    },
    {
      "cell_type": "code",
      "execution_count": 23,
      "metadata": {
        "colab": {
          "base_uri": "https://localhost:8080/"
        },
        "id": "iK7y28UsDSy8",
        "outputId": "46908fa8-29b6-4b5a-e447-5689b7e4e068"
      },
      "outputs": [
        {
          "name": "stdout",
          "output_type": "stream",
          "text": [
            "Index(['id', 'name', 'poster_path', 'backdrop_path', 0], dtype='object')\n"
          ]
        }
      ],
      "source": [
        "#Definir un diccionario por defecto para reemplazar los valores NaN\n",
        "default_dict = {'id': np.nan, 'name': np.nan, 'poster_path': np.nan, 'backdrop_path': np.nan}\n",
        "\n",
        "def replace_nan_with_dict(x):\n",
        "    if pd.isna(x):\n",
        "        return default_dict\n",
        "    return x\n",
        "\n",
        "def safe_literal_eval(x):\n",
        "    \"\"\"Evaluates a string as a Python literal if possible, otherwise returns the original value.\"\"\"\n",
        "    try:\n",
        "        return ast.literal_eval(x)\n",
        "    except (ValueError, SyntaxError):\n",
        "        return x\n",
        "\n",
        "# Convertir las cadenas en literales y reemplazamos NaN con el diccionario predeterminado\n",
        "df['belongs_to_collection'] = df['belongs_to_collection'].apply(safe_literal_eval).apply(replace_nan_with_dict)\n",
        "\n",
        "# Separar los componentes del diccionario en columnas nuevas\n",
        "df2 = df['belongs_to_collection'].apply(pd.Series)\n",
        "\n",
        "print(df2.columns)"
      ]
    },
    {
      "cell_type": "markdown",
      "metadata": {
        "id": "ZtJwbtVAk0Gj"
      },
      "source": [
        "Se considera que puede ser relevante solamente el nuevo atributo 'name' y es por ello que eliminamos aquellos no relevantes"
      ]
    },
    {
      "cell_type": "code",
      "execution_count": 24,
      "metadata": {
        "colab": {
          "base_uri": "https://localhost:8080/"
        },
        "id": "rc_xDYbctAk2",
        "outputId": "63975ae6-ee9b-433e-bd6c-09c07ba49322"
      },
      "outputs": [],
      "source": [
        "df2.drop(columns=[0, 'id',  'poster_path', 'backdrop_path'], inplace=True)\n",
        "#Renombrar la nueva columna 'name'\n",
        "df2 = df2.rename(columns = {'name' : 'name_coll'})"
      ]
    },
    {
      "cell_type": "code",
      "execution_count": 25,
      "metadata": {
        "colab": {
          "base_uri": "https://localhost:8080/"
        },
        "id": "3CT9s6BBDSy8",
        "outputId": "6b88b365-726f-4fbd-d2a0-de417b1fd03e"
      },
      "outputs": [
        {
          "data": {
            "text/plain": [
              "40975"
            ]
          },
          "execution_count": 25,
          "metadata": {},
          "output_type": "execute_result"
        }
      ],
      "source": [
        "#Comprobar cantidad de valores nulos en la columna generada\n",
        "df2['name_coll'].isnull().sum()"
      ]
    },
    {
      "cell_type": "code",
      "execution_count": 26,
      "metadata": {
        "colab": {
          "base_uri": "https://localhost:8080/"
        },
        "id": "r3_CP-Y4M3kL",
        "outputId": "4ddd8906-374b-45cd-b29f-6f0e71e51372"
      },
      "outputs": [],
      "source": [
        "# Eliminar la columna original 'belongs_to_collection'\n",
        "df.drop('belongs_to_collection', axis=1, inplace=True)\n",
        "# Concatenar la nueva columna con el DataFrame original\n",
        "df3bc = pd.concat([df, df2], axis=1)"
      ]
    },
    {
      "cell_type": "markdown",
      "metadata": {
        "id": "lGyaCr5unLUx"
      },
      "source": [
        "#### Desanidar el atributo genres"
      ]
    },
    {
      "cell_type": "code",
      "execution_count": 28,
      "metadata": {
        "colab": {
          "base_uri": "https://localhost:8080/",
          "height": 53
        },
        "id": "hTbZiwOXnJ6L",
        "outputId": "bdd92218-2baa-4f3a-b7ef-0b9d77fc0a04"
      },
      "outputs": [
        {
          "data": {
            "text/plain": [
              "\"[{'id': 16, 'name': 'Animation'}, {'id': 35, 'name': 'Comedy'}, {'id': 10751, 'name': 'Family'}]\""
            ]
          },
          "execution_count": 28,
          "metadata": {},
          "output_type": "execute_result"
        }
      ],
      "source": [
        "#Inspeccionar la estructura del tipo de dato del atributo 'genres'\n",
        "df.genres.loc[0]"
      ]
    },
    {
      "cell_type": "code",
      "execution_count": 29,
      "metadata": {
        "colab": {
          "base_uri": "https://localhost:8080/"
        },
        "id": "5ucJ2kg5p8_j",
        "outputId": "21561768-6319-4602-f007-86a4f9e4c755"
      },
      "outputs": [],
      "source": [
        "# Evaluar los strings como listas de diccionarios\n",
        "df['genres'] = df['genres'].apply(ast.literal_eval)\n",
        "\n",
        "# Expandir los diccionarios en columnas\n",
        "df2g = df['genres'].explode().apply(pd.Series)"
      ]
    },
    {
      "cell_type": "code",
      "execution_count": 31,
      "metadata": {
        "colab": {
          "base_uri": "https://localhost:8080/"
        },
        "id": "_HoB_P04pQ3J",
        "outputId": "25e8fe8a-3e2f-4def-a8f6-ca1e28ab4346"
      },
      "outputs": [
        {
          "data": {
            "text/plain": [
              "Index(['id', 'name', 0], dtype='object')"
            ]
          },
          "execution_count": 31,
          "metadata": {},
          "output_type": "execute_result"
        }
      ],
      "source": [
        "#Imprimir el nombre de las columnas\n",
        "df2g.columns"
      ]
    },
    {
      "cell_type": "markdown",
      "metadata": {
        "id": "XBVorj2iaOt4"
      },
      "source": [
        "Se considera que puede ser relevante solamente el nuevo atributo 'name' y es por ello que eliminamos aquellos no relevantes"
      ]
    },
    {
      "cell_type": "code",
      "execution_count": 32,
      "metadata": {
        "colab": {
          "base_uri": "https://localhost:8080/"
        },
        "id": "_ACq3Rg2uZCw",
        "outputId": "3d87e722-b02c-4f8c-ef28-ee6415ad6b03"
      },
      "outputs": [],
      "source": [
        "#Eliminar la columna 0 y 'id'\n",
        "df2g.drop(columns=[0, 'id'], inplace=True)"
      ]
    },
    {
      "cell_type": "code",
      "execution_count": 33,
      "metadata": {
        "colab": {
          "base_uri": "https://localhost:8080/",
          "height": 133
        },
        "id": "wXA5AqjP0u4_",
        "outputId": "280b040a-d3ba-4456-f6dd-d1c6e60973ae"
      },
      "outputs": [
        {
          "data": {
            "text/plain": [
              "name    2442\n",
              "dtype: int64"
            ]
          },
          "execution_count": 33,
          "metadata": {},
          "output_type": "execute_result"
        }
      ],
      "source": [
        "#Imprimir cantidad de valores nulos\n",
        "df2g.isnull().sum()"
      ]
    },
    {
      "cell_type": "code",
      "execution_count": 34,
      "metadata": {
        "colab": {
          "base_uri": "https://localhost:8080/"
        },
        "id": "D0JmiKw_5_Uy",
        "outputId": "a1474309-9be5-4903-f1b8-7fa89c43f010"
      },
      "outputs": [],
      "source": [
        "#Agrupar las filas por el índice original de df y concatenar los valores\n",
        "# de la columna 'name' en una cadena separada por comas.\n",
        "df2g_ind = df2g.groupby(df2g.index)['name'].apply(lambda x: ','.join(x.astype(str))).reset_index()"
      ]
    },
    {
      "cell_type": "code",
      "execution_count": 36,
      "metadata": {
        "colab": {
          "base_uri": "https://localhost:8080/"
        },
        "id": "majQjas4gNpz",
        "outputId": "625d6eae-41b8-445d-8c1c-9f2b4362b07d"
      },
      "outputs": [
        {
          "data": {
            "text/plain": [
              "2442"
            ]
          },
          "execution_count": 36,
          "metadata": {},
          "output_type": "execute_result"
        }
      ],
      "source": [
        "#Comprobar que la cantidad de valores nan de tipo string se mantenga\n",
        "df2g_ind['name'].value_counts().get('nan', 0)"
      ]
    },
    {
      "cell_type": "code",
      "execution_count": 37,
      "metadata": {
        "colab": {
          "base_uri": "https://localhost:8080/"
        },
        "id": "cgz2yQhtrwoE",
        "outputId": "e6a94219-7537-4f4e-9a14-b211fe4bc0a6"
      },
      "outputs": [],
      "source": [
        "#Renombrar la nueva columna 'name'\n",
        "df2gg = df2g_ind.rename(columns = {'name' : 'name_gen'})\n"
      ]
    },
    {
      "cell_type": "code",
      "execution_count": 38,
      "metadata": {
        "colab": {
          "base_uri": "https://localhost:8080/"
        },
        "id": "azCwBfN1q67f",
        "outputId": "dbcb752c-0ce8-4ae3-ff25-c9826cc07221"
      },
      "outputs": [],
      "source": [
        "#Extraer la columna de interés\n",
        "df2gg = df2gg[['name_gen']]\n"
      ]
    },
    {
      "cell_type": "code",
      "execution_count": 39,
      "metadata": {
        "colab": {
          "base_uri": "https://localhost:8080/"
        },
        "id": "TWWR-9GmqlvN",
        "outputId": "53227e79-11db-4576-9176-2c10568afca1"
      },
      "outputs": [],
      "source": [
        "# Eliminar la columna original 'genres' del dataframe usado en el item anterior\n",
        "df3bc.drop('genres', axis=1, inplace=True)\n",
        "# Concatenar la nueva columna con el DataFrame original\n",
        "df3g = pd.concat([df3bc, df2gg], axis=1)"
      ]
    },
    {
      "cell_type": "markdown",
      "metadata": {
        "id": "JLNu5qFyuqbO"
      },
      "source": [
        "#### Desanidar el atributo 'production_companies'"
      ]
    },
    {
      "cell_type": "code",
      "execution_count": 41,
      "metadata": {
        "colab": {
          "base_uri": "https://localhost:8080/",
          "height": 164
        },
        "id": "EjlAxuTlfyNO",
        "outputId": "de7e9755-1d86-43e7-a6be-e11291656138"
      },
      "outputs": [
        {
          "data": {
            "text/plain": [
              "0       [{'name': 'Pixar Animation Studios', 'id': 3}]\n",
              "1    [{'name': 'TriStar Pictures', 'id': 559}, {'na...\n",
              "Name: production_companies, dtype: object"
            ]
          },
          "execution_count": 41,
          "metadata": {},
          "output_type": "execute_result"
        }
      ],
      "source": [
        "#Inspeccionar la estructura del tipo de dato del atributo 'production_companies'\n",
        "df['production_companies'][:2]"
      ]
    },
    {
      "cell_type": "code",
      "execution_count": 42,
      "metadata": {
        "colab": {
          "base_uri": "https://localhost:8080/",
          "height": 53
        },
        "id": "98f6cg2DwPBU",
        "outputId": "62ac7793-da2f-4851-ae32-6f686ad59900"
      },
      "outputs": [
        {
          "data": {
            "text/plain": [
              "\"[{'name': 'TriStar Pictures', 'id': 559}, {'name': 'Teitler Film', 'id': 2550}, {'name': 'Interscope Communications', 'id': 10201}]\""
            ]
          },
          "execution_count": 42,
          "metadata": {},
          "output_type": "execute_result"
        }
      ],
      "source": [
        "df.production_companies.loc[1]"
      ]
    },
    {
      "cell_type": "code",
      "execution_count": 43,
      "metadata": {
        "colab": {
          "base_uri": "https://localhost:8080/",
          "height": 53
        },
        "id": "BaRcg2sHzOGk",
        "outputId": "b0d3792d-904f-457c-b52e-2c9c78ea0374"
      },
      "outputs": [
        {
          "data": {
            "text/plain": [
              "'[]'"
            ]
          },
          "execution_count": 43,
          "metadata": {},
          "output_type": "execute_result"
        }
      ],
      "source": [
        "df.production_companies.loc[50]"
      ]
    },
    {
      "cell_type": "code",
      "execution_count": 44,
      "metadata": {
        "colab": {
          "base_uri": "https://localhost:8080/",
          "height": 70
        },
        "id": "nqJrOJORzUqY",
        "outputId": "b2f7db0a-b0e3-46f0-b76f-77bd5054c197"
      },
      "outputs": [
        {
          "data": {
            "text/plain": [
              "\"[{'name': 'Paramount Pictures', 'id': 4}, {'name': 'Scott Rudin Productions', 'id': 258}, {'name': 'Mirage Enterprises', 'id': 932}, {'name': 'Sandollar Productions', 'id': 5842}, {'name': 'Constellation Entertainment', 'id': 14941}, {'name': 'Worldwide', 'id': 55873}, {'name': 'Mont Blanc Entertainment GmbH', 'id': 58079}]\""
            ]
          },
          "execution_count": 44,
          "metadata": {},
          "output_type": "execute_result"
        }
      ],
      "source": [
        "df.production_companies.loc[6]"
      ]
    },
    {
      "cell_type": "markdown",
      "metadata": {
        "id": "jTeThXaOf_3U"
      },
      "source": [
        "Se observa que los elementos del atributo 'production_companies' están formados por listas de diccionarios y listas vacías. Extraemos solamente los nombres de las productoras ya que podrían ser útiles"
      ]
    },
    {
      "cell_type": "code",
      "execution_count": 45,
      "metadata": {
        "colab": {
          "base_uri": "https://localhost:8080/"
        },
        "id": "qxff20dcdtSA",
        "outputId": "083afa42-13b6-492a-c7e3-99a3a62d9d45"
      },
      "outputs": [],
      "source": [
        "# Función para extraer los nombres\n",
        "def extraer_nombres(diccionarios):\n",
        "    if isinstance(diccionarios, str):\n",
        "        try:\n",
        "            diccionarios = ast.literal_eval(diccionarios)\n",
        "        except (SyntaxError, ValueError):\n",
        "            return np.nan\n",
        "\n",
        "    if not isinstance(diccionarios, list):\n",
        "        return np.nan\n",
        "\n",
        "    nombres = [diccionario.get('name', np.nan) for diccionario in diccionarios if diccionario.get('name') is not None]\n",
        "\n",
        "    if not nombres:\n",
        "        return np.nan\n",
        "\n",
        "    return ', '.join(nombres)\n",
        "\n",
        "# Aplicar la función a la columna 'production_companies'\n",
        "df2pc = df['production_companies'].apply(extraer_nombres)"
      ]
    },
    {
      "cell_type": "code",
      "execution_count": 46,
      "metadata": {
        "colab": {
          "base_uri": "https://localhost:8080/",
          "height": 164
        },
        "id": "y8GaIG3Oi-n5",
        "outputId": "0d3968a2-e2a7-4def-f221-c66cd8f5cc4d"
      },
      "outputs": [
        {
          "data": {
            "text/plain": [
              "0                              Pixar Animation Studios\n",
              "1    TriStar Pictures, Teitler Film, Interscope Com...\n",
              "Name: production_companies, dtype: object"
            ]
          },
          "execution_count": 46,
          "metadata": {},
          "output_type": "execute_result"
        }
      ],
      "source": [
        "df2pc[:2]"
      ]
    },
    {
      "cell_type": "code",
      "execution_count": 47,
      "metadata": {
        "colab": {
          "base_uri": "https://localhost:8080/"
        },
        "id": "bvgtDqFhdtEP",
        "outputId": "09b851cf-0c67-44f5-e8bc-aff3e8b8e6a0"
      },
      "outputs": [],
      "source": [
        "# Crear DataFrame con la serie df2pc\n",
        "df22 = pd.DataFrame(df2pc.tolist(), columns=['production_companies'])"
      ]
    },
    {
      "cell_type": "code",
      "execution_count": 48,
      "metadata": {
        "colab": {
          "base_uri": "https://localhost:8080/",
          "height": 129
        },
        "id": "ZfjLd29ORlLz",
        "outputId": "cb0ef383-c2c1-42e8-a3cd-e3881077c638"
      },
      "outputs": [
        {
          "data": {
            "text/html": [
              "<div>\n",
              "<style scoped>\n",
              "    .dataframe tbody tr th:only-of-type {\n",
              "        vertical-align: middle;\n",
              "    }\n",
              "\n",
              "    .dataframe tbody tr th {\n",
              "        vertical-align: top;\n",
              "    }\n",
              "\n",
              "    .dataframe thead th {\n",
              "        text-align: right;\n",
              "    }\n",
              "</style>\n",
              "<table border=\"1\" class=\"dataframe\">\n",
              "  <thead>\n",
              "    <tr style=\"text-align: right;\">\n",
              "      <th></th>\n",
              "      <th>production_companies</th>\n",
              "    </tr>\n",
              "  </thead>\n",
              "  <tbody>\n",
              "    <tr>\n",
              "      <th>0</th>\n",
              "      <td>Pixar Animation Studios</td>\n",
              "    </tr>\n",
              "    <tr>\n",
              "      <th>1</th>\n",
              "      <td>TriStar Pictures, Teitler Film, Interscope Com...</td>\n",
              "    </tr>\n",
              "  </tbody>\n",
              "</table>\n",
              "</div>"
            ],
            "text/plain": [
              "                                production_companies\n",
              "0                            Pixar Animation Studios\n",
              "1  TriStar Pictures, Teitler Film, Interscope Com..."
            ]
          },
          "execution_count": 48,
          "metadata": {},
          "output_type": "execute_result"
        }
      ],
      "source": [
        "df22[:2]"
      ]
    },
    {
      "cell_type": "code",
      "execution_count": 49,
      "metadata": {
        "colab": {
          "base_uri": "https://localhost:8080/"
        },
        "id": "OaEp142vmVFI",
        "outputId": "7665985d-85b3-48be-8ae5-cd99270c3b09"
      },
      "outputs": [],
      "source": [
        "# Eliminar la columna original 'production_companies' del dataframe usado en el item anterior\n",
        "df3g.drop('production_companies', axis=1, inplace=True)\n",
        "# Concatenar la nueva columna con el DataFrame original\n",
        "df3_pcomp = pd.concat([df3g, df22], axis=1)"
      ]
    },
    {
      "cell_type": "code",
      "execution_count": 50,
      "metadata": {
        "colab": {
          "base_uri": "https://localhost:8080/",
          "height": 340
        },
        "id": "GM5ghU0hmU-K",
        "outputId": "d048dbbd-a244-4f65-c784-7ee65cbc3ccf"
      },
      "outputs": [
        {
          "data": {
            "text/html": [
              "<div>\n",
              "<style scoped>\n",
              "    .dataframe tbody tr th:only-of-type {\n",
              "        vertical-align: middle;\n",
              "    }\n",
              "\n",
              "    .dataframe tbody tr th {\n",
              "        vertical-align: top;\n",
              "    }\n",
              "\n",
              "    .dataframe thead th {\n",
              "        text-align: right;\n",
              "    }\n",
              "</style>\n",
              "<table border=\"1\" class=\"dataframe\">\n",
              "  <thead>\n",
              "    <tr style=\"text-align: right;\">\n",
              "      <th></th>\n",
              "      <th>budget</th>\n",
              "      <th>id</th>\n",
              "      <th>original_language</th>\n",
              "      <th>overview</th>\n",
              "      <th>popularity</th>\n",
              "      <th>production_countries</th>\n",
              "      <th>release_date</th>\n",
              "      <th>revenue</th>\n",
              "      <th>runtime</th>\n",
              "      <th>spoken_languages</th>\n",
              "      <th>status</th>\n",
              "      <th>tagline</th>\n",
              "      <th>title</th>\n",
              "      <th>vote_average</th>\n",
              "      <th>vote_count</th>\n",
              "      <th>name_coll</th>\n",
              "      <th>name_gen</th>\n",
              "      <th>production_companies</th>\n",
              "    </tr>\n",
              "  </thead>\n",
              "  <tbody>\n",
              "    <tr>\n",
              "      <th>0</th>\n",
              "      <td>30000000</td>\n",
              "      <td>862</td>\n",
              "      <td>en</td>\n",
              "      <td>Led by Woody, Andy's toys live happily in his ...</td>\n",
              "      <td>21.946943</td>\n",
              "      <td>[{'iso_3166_1': 'US', 'name': 'United States o...</td>\n",
              "      <td>1995-10-30</td>\n",
              "      <td>373554033.0</td>\n",
              "      <td>81.0</td>\n",
              "      <td>[{'iso_639_1': 'en', 'name': 'English'}]</td>\n",
              "      <td>Released</td>\n",
              "      <td>NaN</td>\n",
              "      <td>Toy Story</td>\n",
              "      <td>7.7</td>\n",
              "      <td>5415.0</td>\n",
              "      <td>Toy Story Collection</td>\n",
              "      <td>Animation,Comedy,Family</td>\n",
              "      <td>Pixar Animation Studios</td>\n",
              "    </tr>\n",
              "    <tr>\n",
              "      <th>1</th>\n",
              "      <td>65000000</td>\n",
              "      <td>8844</td>\n",
              "      <td>en</td>\n",
              "      <td>When siblings Judy and Peter discover an encha...</td>\n",
              "      <td>17.015539</td>\n",
              "      <td>[{'iso_3166_1': 'US', 'name': 'United States o...</td>\n",
              "      <td>1995-12-15</td>\n",
              "      <td>262797249.0</td>\n",
              "      <td>104.0</td>\n",
              "      <td>[{'iso_639_1': 'en', 'name': 'English'}, {'iso...</td>\n",
              "      <td>Released</td>\n",
              "      <td>Roll the dice and unleash the excitement!</td>\n",
              "      <td>Jumanji</td>\n",
              "      <td>6.9</td>\n",
              "      <td>2413.0</td>\n",
              "      <td>NaN</td>\n",
              "      <td>Adventure,Fantasy,Family</td>\n",
              "      <td>TriStar Pictures, Teitler Film, Interscope Com...</td>\n",
              "    </tr>\n",
              "  </tbody>\n",
              "</table>\n",
              "</div>"
            ],
            "text/plain": [
              "     budget    id original_language  \\\n",
              "0  30000000   862                en   \n",
              "1  65000000  8844                en   \n",
              "\n",
              "                                            overview popularity  \\\n",
              "0  Led by Woody, Andy's toys live happily in his ...  21.946943   \n",
              "1  When siblings Judy and Peter discover an encha...  17.015539   \n",
              "\n",
              "                                production_countries release_date  \\\n",
              "0  [{'iso_3166_1': 'US', 'name': 'United States o...   1995-10-30   \n",
              "1  [{'iso_3166_1': 'US', 'name': 'United States o...   1995-12-15   \n",
              "\n",
              "       revenue  runtime                                   spoken_languages  \\\n",
              "0  373554033.0     81.0           [{'iso_639_1': 'en', 'name': 'English'}]   \n",
              "1  262797249.0    104.0  [{'iso_639_1': 'en', 'name': 'English'}, {'iso...   \n",
              "\n",
              "     status                                    tagline      title  \\\n",
              "0  Released                                        NaN  Toy Story   \n",
              "1  Released  Roll the dice and unleash the excitement!    Jumanji   \n",
              "\n",
              "   vote_average  vote_count             name_coll                  name_gen  \\\n",
              "0           7.7      5415.0  Toy Story Collection   Animation,Comedy,Family   \n",
              "1           6.9      2413.0                   NaN  Adventure,Fantasy,Family   \n",
              "\n",
              "                                production_companies  \n",
              "0                            Pixar Animation Studios  \n",
              "1  TriStar Pictures, Teitler Film, Interscope Com...  "
            ]
          },
          "execution_count": 50,
          "metadata": {},
          "output_type": "execute_result"
        }
      ],
      "source": [
        "df3_pcomp[:2]"
      ]
    },
    {
      "cell_type": "markdown",
      "metadata": {
        "id": "pzvoRRZj_VMQ"
      },
      "source": [
        "#### Desanidar el atributo production_countries"
      ]
    },
    {
      "cell_type": "code",
      "execution_count": 51,
      "metadata": {
        "colab": {
          "base_uri": "https://localhost:8080/",
          "height": 164
        },
        "id": "G2TRPBfV_dk8",
        "outputId": "f269702c-3ed9-4e07-a01f-85ebe3968c4c"
      },
      "outputs": [
        {
          "data": {
            "text/plain": [
              "0    [{'iso_3166_1': 'US', 'name': 'United States o...\n",
              "1    [{'iso_3166_1': 'US', 'name': 'United States o...\n",
              "Name: production_countries, dtype: object"
            ]
          },
          "execution_count": 51,
          "metadata": {},
          "output_type": "execute_result"
        }
      ],
      "source": [
        "#Inspeccionar el tipo de dato de 'production_countries'\n",
        "df['production_countries'][:2]"
      ]
    },
    {
      "cell_type": "code",
      "execution_count": 52,
      "metadata": {
        "colab": {
          "base_uri": "https://localhost:8080/"
        },
        "id": "I3tLyyLaBGsX",
        "outputId": "92eca3a4-173b-4fb3-a60a-94959e8b4115"
      },
      "outputs": [],
      "source": [
        "df2pcou = df['production_countries'].apply(extraer_nombres)"
      ]
    },
    {
      "cell_type": "code",
      "execution_count": 53,
      "metadata": {
        "colab": {
          "base_uri": "https://localhost:8080/",
          "height": 164
        },
        "id": "4-L1TZPuBf5D",
        "outputId": "21919ff3-088e-4627-e7b6-0e03caec3e90"
      },
      "outputs": [
        {
          "data": {
            "text/plain": [
              "0    United States of America\n",
              "1    United States of America\n",
              "Name: production_countries, dtype: object"
            ]
          },
          "execution_count": 53,
          "metadata": {},
          "output_type": "execute_result"
        }
      ],
      "source": [
        "df2pcou[:2]"
      ]
    },
    {
      "cell_type": "code",
      "execution_count": 54,
      "metadata": {
        "colab": {
          "base_uri": "https://localhost:8080/"
        },
        "id": "LddNh4ZsDS0D",
        "outputId": "71401325-9644-4f38-ef35-5bcc83f1acd4"
      },
      "outputs": [],
      "source": [
        "# Crear DataFrame con la serie df2pcou\n",
        "df22pcou = pd.DataFrame(df2pcou.tolist(), columns=['production_countries'])"
      ]
    },
    {
      "cell_type": "code",
      "execution_count": 55,
      "metadata": {
        "colab": {
          "base_uri": "https://localhost:8080/",
          "height": 129
        },
        "id": "C_xeLk1MD_zw",
        "outputId": "db5e5572-1f00-4bd0-8517-fab1fb6bb1c3"
      },
      "outputs": [
        {
          "data": {
            "text/html": [
              "<div>\n",
              "<style scoped>\n",
              "    .dataframe tbody tr th:only-of-type {\n",
              "        vertical-align: middle;\n",
              "    }\n",
              "\n",
              "    .dataframe tbody tr th {\n",
              "        vertical-align: top;\n",
              "    }\n",
              "\n",
              "    .dataframe thead th {\n",
              "        text-align: right;\n",
              "    }\n",
              "</style>\n",
              "<table border=\"1\" class=\"dataframe\">\n",
              "  <thead>\n",
              "    <tr style=\"text-align: right;\">\n",
              "      <th></th>\n",
              "      <th>production_countries</th>\n",
              "    </tr>\n",
              "  </thead>\n",
              "  <tbody>\n",
              "    <tr>\n",
              "      <th>0</th>\n",
              "      <td>United States of America</td>\n",
              "    </tr>\n",
              "    <tr>\n",
              "      <th>1</th>\n",
              "      <td>United States of America</td>\n",
              "    </tr>\n",
              "  </tbody>\n",
              "</table>\n",
              "</div>"
            ],
            "text/plain": [
              "       production_countries\n",
              "0  United States of America\n",
              "1  United States of America"
            ]
          },
          "execution_count": 55,
          "metadata": {},
          "output_type": "execute_result"
        }
      ],
      "source": [
        "df22pcou[:2]"
      ]
    },
    {
      "cell_type": "code",
      "execution_count": 56,
      "metadata": {
        "colab": {
          "base_uri": "https://localhost:8080/"
        },
        "id": "GqLKZbKUFcyy",
        "outputId": "50cff419-4ba5-4496-9506-ca3d1c9ac26d"
      },
      "outputs": [],
      "source": [
        "# Eliminar la columna original 'production_companies' del dataframe usado en el item anterior\n",
        "df3_pcomp.drop('production_countries', axis=1, inplace=True)\n",
        "# Concatenar la nueva columna con el DataFrame original\n",
        "df33_pcomp = pd.concat([df3_pcomp, df22pcou], axis=1)"
      ]
    },
    {
      "cell_type": "code",
      "execution_count": 57,
      "metadata": {
        "colab": {
          "base_uri": "https://localhost:8080/",
          "height": 340
        },
        "id": "UcSf0cWsGStB",
        "outputId": "89157be1-f8ab-4d6b-a164-a3f11e785dd0"
      },
      "outputs": [
        {
          "data": {
            "text/html": [
              "<div>\n",
              "<style scoped>\n",
              "    .dataframe tbody tr th:only-of-type {\n",
              "        vertical-align: middle;\n",
              "    }\n",
              "\n",
              "    .dataframe tbody tr th {\n",
              "        vertical-align: top;\n",
              "    }\n",
              "\n",
              "    .dataframe thead th {\n",
              "        text-align: right;\n",
              "    }\n",
              "</style>\n",
              "<table border=\"1\" class=\"dataframe\">\n",
              "  <thead>\n",
              "    <tr style=\"text-align: right;\">\n",
              "      <th></th>\n",
              "      <th>budget</th>\n",
              "      <th>id</th>\n",
              "      <th>original_language</th>\n",
              "      <th>overview</th>\n",
              "      <th>popularity</th>\n",
              "      <th>release_date</th>\n",
              "      <th>revenue</th>\n",
              "      <th>runtime</th>\n",
              "      <th>spoken_languages</th>\n",
              "      <th>status</th>\n",
              "      <th>tagline</th>\n",
              "      <th>title</th>\n",
              "      <th>vote_average</th>\n",
              "      <th>vote_count</th>\n",
              "      <th>name_coll</th>\n",
              "      <th>name_gen</th>\n",
              "      <th>production_companies</th>\n",
              "      <th>production_countries</th>\n",
              "    </tr>\n",
              "  </thead>\n",
              "  <tbody>\n",
              "    <tr>\n",
              "      <th>0</th>\n",
              "      <td>30000000</td>\n",
              "      <td>862</td>\n",
              "      <td>en</td>\n",
              "      <td>Led by Woody, Andy's toys live happily in his ...</td>\n",
              "      <td>21.946943</td>\n",
              "      <td>1995-10-30</td>\n",
              "      <td>373554033.0</td>\n",
              "      <td>81.0</td>\n",
              "      <td>[{'iso_639_1': 'en', 'name': 'English'}]</td>\n",
              "      <td>Released</td>\n",
              "      <td>NaN</td>\n",
              "      <td>Toy Story</td>\n",
              "      <td>7.7</td>\n",
              "      <td>5415.0</td>\n",
              "      <td>Toy Story Collection</td>\n",
              "      <td>Animation,Comedy,Family</td>\n",
              "      <td>Pixar Animation Studios</td>\n",
              "      <td>United States of America</td>\n",
              "    </tr>\n",
              "    <tr>\n",
              "      <th>1</th>\n",
              "      <td>65000000</td>\n",
              "      <td>8844</td>\n",
              "      <td>en</td>\n",
              "      <td>When siblings Judy and Peter discover an encha...</td>\n",
              "      <td>17.015539</td>\n",
              "      <td>1995-12-15</td>\n",
              "      <td>262797249.0</td>\n",
              "      <td>104.0</td>\n",
              "      <td>[{'iso_639_1': 'en', 'name': 'English'}, {'iso...</td>\n",
              "      <td>Released</td>\n",
              "      <td>Roll the dice and unleash the excitement!</td>\n",
              "      <td>Jumanji</td>\n",
              "      <td>6.9</td>\n",
              "      <td>2413.0</td>\n",
              "      <td>NaN</td>\n",
              "      <td>Adventure,Fantasy,Family</td>\n",
              "      <td>TriStar Pictures, Teitler Film, Interscope Com...</td>\n",
              "      <td>United States of America</td>\n",
              "    </tr>\n",
              "  </tbody>\n",
              "</table>\n",
              "</div>"
            ],
            "text/plain": [
              "     budget    id original_language  \\\n",
              "0  30000000   862                en   \n",
              "1  65000000  8844                en   \n",
              "\n",
              "                                            overview popularity release_date  \\\n",
              "0  Led by Woody, Andy's toys live happily in his ...  21.946943   1995-10-30   \n",
              "1  When siblings Judy and Peter discover an encha...  17.015539   1995-12-15   \n",
              "\n",
              "       revenue  runtime                                   spoken_languages  \\\n",
              "0  373554033.0     81.0           [{'iso_639_1': 'en', 'name': 'English'}]   \n",
              "1  262797249.0    104.0  [{'iso_639_1': 'en', 'name': 'English'}, {'iso...   \n",
              "\n",
              "     status                                    tagline      title  \\\n",
              "0  Released                                        NaN  Toy Story   \n",
              "1  Released  Roll the dice and unleash the excitement!    Jumanji   \n",
              "\n",
              "   vote_average  vote_count             name_coll                  name_gen  \\\n",
              "0           7.7      5415.0  Toy Story Collection   Animation,Comedy,Family   \n",
              "1           6.9      2413.0                   NaN  Adventure,Fantasy,Family   \n",
              "\n",
              "                                production_companies      production_countries  \n",
              "0                            Pixar Animation Studios  United States of America  \n",
              "1  TriStar Pictures, Teitler Film, Interscope Com...  United States of America  "
            ]
          },
          "execution_count": 57,
          "metadata": {},
          "output_type": "execute_result"
        }
      ],
      "source": [
        "df33_pcomp[:2]"
      ]
    },
    {
      "cell_type": "markdown",
      "metadata": {
        "id": "ga9-tZDSglQe"
      },
      "source": [
        "#### Atributo 'spoken_languages'"
      ]
    },
    {
      "cell_type": "code",
      "execution_count": 58,
      "metadata": {
        "colab": {
          "base_uri": "https://localhost:8080/",
          "height": 53
        },
        "id": "ooGca_Kxdacn",
        "outputId": "0c8be202-c0f5-48d2-d419-0fc6cb9b8a81"
      },
      "outputs": [
        {
          "data": {
            "text/plain": [
              "\"[{'iso_639_1': 'en', 'name': 'English'}]\""
            ]
          },
          "execution_count": 58,
          "metadata": {},
          "output_type": "execute_result"
        }
      ],
      "source": [
        "#Inspeccionar el tipo de dato\n",
        "df.spoken_languages.iloc[0]"
      ]
    },
    {
      "cell_type": "code",
      "execution_count": 59,
      "metadata": {
        "colab": {
          "base_uri": "https://localhost:8080/"
        },
        "id": "LehKkxpphBlI",
        "outputId": "5419b084-d63a-4325-86e9-f304fa09e1ca"
      },
      "outputs": [],
      "source": [
        "df2lang = df['spoken_languages'].apply(extraer_nombres)"
      ]
    },
    {
      "cell_type": "code",
      "execution_count": 60,
      "metadata": {
        "colab": {
          "base_uri": "https://localhost:8080/",
          "height": 164
        },
        "id": "hvryh0ilhyy5",
        "outputId": "f0d576db-621a-4925-e4e0-029baa6c9267"
      },
      "outputs": [
        {
          "data": {
            "text/plain": [
              "0              English\n",
              "1    English, Français\n",
              "Name: spoken_languages, dtype: object"
            ]
          },
          "execution_count": 60,
          "metadata": {},
          "output_type": "execute_result"
        }
      ],
      "source": [
        "df2lang[:2]"
      ]
    },
    {
      "cell_type": "code",
      "execution_count": 61,
      "metadata": {
        "colab": {
          "base_uri": "https://localhost:8080/"
        },
        "id": "Qj4g3y9ghBcV",
        "outputId": "3cc611bc-df66-4de4-c143-aa5dbd8c3351"
      },
      "outputs": [],
      "source": [
        "# Crear DataFrame con la serie df2lang\n",
        "df22lang = pd.DataFrame(df2lang.tolist(), columns=['languages'])"
      ]
    },
    {
      "cell_type": "code",
      "execution_count": 62,
      "metadata": {
        "colab": {
          "base_uri": "https://localhost:8080/",
          "height": 129
        },
        "id": "FX6UHfmDhBWc",
        "outputId": "fd03ce86-1c05-4e99-b8f9-d2e3ed8653b5"
      },
      "outputs": [
        {
          "data": {
            "text/html": [
              "<div>\n",
              "<style scoped>\n",
              "    .dataframe tbody tr th:only-of-type {\n",
              "        vertical-align: middle;\n",
              "    }\n",
              "\n",
              "    .dataframe tbody tr th {\n",
              "        vertical-align: top;\n",
              "    }\n",
              "\n",
              "    .dataframe thead th {\n",
              "        text-align: right;\n",
              "    }\n",
              "</style>\n",
              "<table border=\"1\" class=\"dataframe\">\n",
              "  <thead>\n",
              "    <tr style=\"text-align: right;\">\n",
              "      <th></th>\n",
              "      <th>languages</th>\n",
              "    </tr>\n",
              "  </thead>\n",
              "  <tbody>\n",
              "    <tr>\n",
              "      <th>0</th>\n",
              "      <td>English</td>\n",
              "    </tr>\n",
              "    <tr>\n",
              "      <th>1</th>\n",
              "      <td>English, Français</td>\n",
              "    </tr>\n",
              "  </tbody>\n",
              "</table>\n",
              "</div>"
            ],
            "text/plain": [
              "           languages\n",
              "0            English\n",
              "1  English, Français"
            ]
          },
          "execution_count": 62,
          "metadata": {},
          "output_type": "execute_result"
        }
      ],
      "source": [
        "df22lang[:2]"
      ]
    },
    {
      "cell_type": "code",
      "execution_count": 63,
      "metadata": {
        "colab": {
          "base_uri": "https://localhost:8080/"
        },
        "id": "7SZwKwOtipyi",
        "outputId": "9d48a3c1-751f-4035-9e61-9f3f792efb51"
      },
      "outputs": [],
      "source": [
        "# Eliminar la columna original 'spoken_languages' del dataframe usado en el item anterior\n",
        "df33_pcomp.drop('spoken_languages', axis=1, inplace=True)\n",
        "# Concatenar la nueva columna con el DataFrame original\n",
        "df3 = pd.concat([df33_pcomp, df22lang], axis=1)"
      ]
    },
    {
      "cell_type": "markdown",
      "metadata": {
        "id": "HmKkJQWmG0_2"
      },
      "source": [
        "#### Atributo 'revenue' y 'budget'"
      ]
    },
    {
      "cell_type": "code",
      "execution_count": 65,
      "metadata": {
        "colab": {
          "base_uri": "https://localhost:8080/"
        },
        "id": "ctpe9eLVDSy-",
        "outputId": "91c36842-32c8-42ae-fd1f-de80e7f1fd94"
      },
      "outputs": [
        {
          "name": "stdout",
          "output_type": "stream",
          "text": [
            "float64\n",
            "object\n"
          ]
        }
      ],
      "source": [
        "#Inspeccionar el tipo de dato de cada atributo\n",
        "print(df3['revenue'].dtypes)\n",
        "print(df3['budget'].dtypes)"
      ]
    },
    {
      "cell_type": "markdown",
      "metadata": {
        "id": "FNjPfg4ODSy-"
      },
      "source": [
        "Dado que el atributo \"budget\" es de tipo \"object\",se revisan sus valores y luego se convierten a tipo numérico"
      ]
    },
    {
      "cell_type": "code",
      "execution_count": 66,
      "metadata": {
        "colab": {
          "base_uri": "https://localhost:8080/"
        },
        "id": "MTMOqu8Tafmh",
        "outputId": "032a27c2-2a37-41c6-f341-4201e9849068"
      },
      "outputs": [],
      "source": [
        "# Función para comprobar si una cadena contiene punto o coma\n",
        "def contains_punctuations(value):\n",
        "    if isinstance(value, str):\n",
        "        return bool(re.search(r'[.,]', value))\n",
        "    return False"
      ]
    },
    {
      "cell_type": "code",
      "execution_count": 67,
      "metadata": {
        "colab": {
          "base_uri": "https://localhost:8080/"
        },
        "id": "KCTVX2AhWwCT",
        "outputId": "c013bb4d-483d-45e9-e889-f60dba2c3cd0"
      },
      "outputs": [
        {
          "name": "stdout",
          "output_type": "stream",
          "text": [
            "Indices: [19730, 29503, 35587]\n"
          ]
        }
      ],
      "source": [
        "# Aplicar la función a la columna 'budget' y obtenemos los índices que cumplen la condición\n",
        "indices = df3[df3['budget'].apply(contains_punctuations)].index\n",
        "\n",
        "# Mostrar los índices\n",
        "print(\"Indices:\", indices.tolist())\n",
        "\n",
        "# Mostrar los elementos para los índices correspondientes\n",
        "elementos = df3.loc[indices]"
      ]
    },
    {
      "cell_type": "markdown",
      "metadata": {
        "id": "YPaiQQi1bWvB"
      },
      "source": [
        "Reemplazar los strings encontrados por 0"
      ]
    },
    {
      "cell_type": "code",
      "execution_count": 68,
      "metadata": {
        "colab": {
          "base_uri": "https://localhost:8080/"
        },
        "id": "fzotnGbua_Ku",
        "outputId": "ec1621c8-b1a5-4637-db7e-167d291e75a2"
      },
      "outputs": [],
      "source": [
        "# Índices específicos a reemplazar\n",
        "indices_reempl = [19730, 29503, 35587]\n",
        "\n",
        "# Reemplazar los valores en los índices específicos por 0\n",
        "for idx in indices_reempl:\n",
        "    if idx in df3.index:\n",
        "        df3.at[idx, 'budget'] = 0"
      ]
    },
    {
      "cell_type": "code",
      "execution_count": 69,
      "metadata": {
        "colab": {
          "base_uri": "https://localhost:8080/"
        },
        "id": "tlC3DnTtcYZt",
        "outputId": "47527173-5dbe-41ac-c724-a7378ba985be"
      },
      "outputs": [
        {
          "name": "stdout",
          "output_type": "stream",
          "text": [
            "19730    0\n",
            "29503    0\n",
            "35587    0\n",
            "Name: budget, dtype: object\n"
          ]
        }
      ],
      "source": [
        "# Verificar los cambios\n",
        "print(df3.loc[indices_reempl]['budget'])"
      ]
    },
    {
      "cell_type": "code",
      "execution_count": 70,
      "metadata": {
        "colab": {
          "base_uri": "https://localhost:8080/"
        },
        "id": "7s8mni75DSy-",
        "outputId": "14c96ceb-69fa-41af-907f-ed4959f5fc34"
      },
      "outputs": [],
      "source": [
        "#Convertir la variable a tipo numérico\n",
        "df3['budget'] = pd.to_numeric(df3['budget'], errors='coerce')"
      ]
    },
    {
      "cell_type": "markdown",
      "metadata": {
        "id": "G7X0RH9PDSy-"
      },
      "source": [
        "\n",
        "Se realiza el cálculo del **retorno de inversión**"
      ]
    },
    {
      "cell_type": "code",
      "execution_count": 71,
      "metadata": {
        "colab": {
          "base_uri": "https://localhost:8080/"
        },
        "id": "1Oq7pl-qDSy-",
        "outputId": "904e762d-0007-43c3-bb7b-7898a74071a9"
      },
      "outputs": [],
      "source": [
        "df3['return'] = df3.apply(lambda row: row['revenue'] / row['budget'] if row['budget'] != 0 else 0, axis=1)\n"
      ]
    },
    {
      "cell_type": "code",
      "execution_count": 72,
      "metadata": {
        "colab": {
          "base_uri": "https://localhost:8080/",
          "height": 258
        },
        "id": "h4ezVa1_DSy_",
        "outputId": "80c64a2c-4215-4593-daea-94a75beecf73"
      },
      "outputs": [
        {
          "data": {
            "text/plain": [
              "0    12.451801\n",
              "1     4.043035\n",
              "2     0.000000\n",
              "3     5.090760\n",
              "4     0.000000\n",
              "Name: return, dtype: float64"
            ]
          },
          "execution_count": 72,
          "metadata": {},
          "output_type": "execute_result"
        }
      ],
      "source": [
        "df3['return'][:5]"
      ]
    },
    {
      "cell_type": "markdown",
      "metadata": {
        "id": "h5WuJWIgplOr"
      },
      "source": [
        "#### Atributo 'popularity'"
      ]
    },
    {
      "cell_type": "markdown",
      "metadata": {
        "id": "OXQWyQ2A3yJx"
      },
      "source": [
        "Inspeccionar el tipo de dato de 'Popularity'"
      ]
    },
    {
      "cell_type": "code",
      "execution_count": 73,
      "metadata": {
        "id": "Yb-8qNAYqlXO"
      },
      "outputs": [
        {
          "data": {
            "text/plain": [
              "0    21.946943\n",
              "1    17.015539\n",
              "2      11.7129\n",
              "3     3.859495\n",
              "4     8.387519\n",
              "Name: popularity, dtype: object"
            ]
          },
          "execution_count": 73,
          "metadata": {},
          "output_type": "execute_result"
        }
      ],
      "source": [
        "df3['popularity'][:5]"
      ]
    },
    {
      "cell_type": "code",
      "execution_count": 74,
      "metadata": {
        "colab": {
          "base_uri": "https://localhost:8080/"
        },
        "id": "Y6Zb7qe444xQ",
        "outputId": "f3f9e692-663b-4d44-b319-26e57c37569a"
      },
      "outputs": [],
      "source": [
        "#Conviertir la columna a tipo numérico\n",
        "df3['popularity'] = pd.to_numeric(df3['popularity'], errors='coerce')"
      ]
    },
    {
      "cell_type": "code",
      "execution_count": 75,
      "metadata": {
        "colab": {
          "base_uri": "https://localhost:8080/",
          "height": 258
        },
        "id": "-PKhJD315EYH",
        "outputId": "f7ca1c1e-c76a-4126-b543-e85a1ee86d4e"
      },
      "outputs": [
        {
          "data": {
            "text/plain": [
              "0    21.946943\n",
              "1    17.015539\n",
              "2    11.712900\n",
              "3     3.859495\n",
              "4     8.387519\n",
              "Name: popularity, dtype: float64"
            ]
          },
          "execution_count": 75,
          "metadata": {},
          "output_type": "execute_result"
        }
      ],
      "source": [
        "#Comprobar el cambio\n",
        "df3['popularity'][:5]"
      ]
    },
    {
      "cell_type": "markdown",
      "metadata": {
        "id": "AofrnhQZ6jzP"
      },
      "source": [
        "#### Atributo 'realease_date' y nuevo atributo 'rel_year'"
      ]
    },
    {
      "cell_type": "markdown",
      "metadata": {
        "id": "3KH-AkrG7bcR"
      },
      "source": [
        "Inspeccionar el tipo de dato de 'realease_date'"
      ]
    },
    {
      "cell_type": "code",
      "execution_count": 76,
      "metadata": {
        "colab": {
          "base_uri": "https://localhost:8080/",
          "height": 258
        },
        "id": "C7g8YOMs8Ei_",
        "outputId": "c5125146-7903-4b55-dbef-e7c117470e7f"
      },
      "outputs": [
        {
          "data": {
            "text/plain": [
              "0    1995-10-30\n",
              "1    1995-12-15\n",
              "2    1995-12-22\n",
              "3    1995-12-22\n",
              "4    1995-02-10\n",
              "Name: release_date, dtype: object"
            ]
          },
          "execution_count": 76,
          "metadata": {},
          "output_type": "execute_result"
        }
      ],
      "source": [
        "df3['release_date'][:5]"
      ]
    },
    {
      "cell_type": "code",
      "execution_count": 78,
      "metadata": {
        "colab": {
          "base_uri": "https://localhost:8080/"
        },
        "id": "l7PbQZPDSWW4",
        "outputId": "b174c564-0804-4a4c-cc50-0933d5cdb566"
      },
      "outputs": [
        {
          "data": {
            "text/plain": [
              "87"
            ]
          },
          "execution_count": 78,
          "metadata": {},
          "output_type": "execute_result"
        }
      ],
      "source": [
        "#Contar cantidad de datos nulos\n",
        "df3['release_date'].isna().sum()"
      ]
    },
    {
      "cell_type": "code",
      "execution_count": 79,
      "metadata": {
        "colab": {
          "base_uri": "https://localhost:8080/"
        },
        "id": "TBIcITRE8XPJ",
        "outputId": "2f44a5a2-4b1e-4f42-bd32-0700d577e366"
      },
      "outputs": [],
      "source": [
        "#Convertir la variable de tipo object a tipo fecha\n",
        "#Utilizar errors='coerce' para manejar los valores NaN\n",
        "df3['release_date'] = pd.to_datetime(df3['release_date'], errors='coerce' )"
      ]
    },
    {
      "cell_type": "code",
      "execution_count": 80,
      "metadata": {
        "colab": {
          "base_uri": "https://localhost:8080/"
        },
        "id": "P78qCIHBS8t4",
        "outputId": "ddc4cee9-326a-43db-8902-ffb698acc843"
      },
      "outputs": [],
      "source": [
        "#Eliminar valores nulos\n",
        "df3 = df3.dropna(subset=['release_date'])"
      ]
    },
    {
      "cell_type": "code",
      "execution_count": 81,
      "metadata": {
        "id": "x5-U6kNwGlVk"
      },
      "outputs": [],
      "source": [
        "#Crear nuevo atributo que contiene año de estreno de la película\n",
        "df3['release_year'] = df3['release_date'].dt.year.astype('int32')"
      ]
    },
    {
      "cell_type": "code",
      "execution_count": 82,
      "metadata": {
        "colab": {
          "base_uri": "https://localhost:8080/",
          "height": 164
        },
        "id": "q3l0-pfbMyPV",
        "outputId": "32abd07e-920d-47c4-9802-62219afd566f"
      },
      "outputs": [
        {
          "data": {
            "text/plain": [
              "0    1995\n",
              "1    1995\n",
              "Name: release_year, dtype: int32"
            ]
          },
          "execution_count": 82,
          "metadata": {},
          "output_type": "execute_result"
        }
      ],
      "source": [
        "df3['release_year'][:2]"
      ]
    },
    {
      "cell_type": "markdown",
      "metadata": {
        "id": "eEIt8p996Msx"
      },
      "source": [
        "#### Duplicados"
      ]
    },
    {
      "cell_type": "code",
      "execution_count": 83,
      "metadata": {
        "colab": {
          "base_uri": "https://localhost:8080/"
        },
        "id": "VZm3eEQU6Q4m",
        "outputId": "7382178b-76ee-476d-df11-6e39f788e8e8"
      },
      "outputs": [
        {
          "name": "stdout",
          "output_type": "stream",
          "text": [
            "59\n"
          ]
        }
      ],
      "source": [
        "# Contar cantidad de duplicados en la columna 'id'\n",
        "dupl1 = df3['id'].duplicated(keep=False)\n",
        "print(dupl1.sum())"
      ]
    },
    {
      "cell_type": "code",
      "execution_count": 84,
      "metadata": {
        "colab": {
          "base_uri": "https://localhost:8080/"
        },
        "id": "2k7iPbwr8ujS",
        "outputId": "a4d09627-6641-4c70-93bf-68c271f976fe"
      },
      "outputs": [],
      "source": [
        "# Mostrar duplicados por la columna 'id'\n",
        "dupl11 = df3[df3.duplicated(subset=['id'], keep=False)]"
      ]
    },
    {
      "cell_type": "code",
      "execution_count": 85,
      "metadata": {
        "colab": {
          "base_uri": "https://localhost:8080/"
        },
        "id": "EIGPQ1rVI1nG",
        "outputId": "51438ec8-6041-40a5-f807-989252ff0af0"
      },
      "outputs": [],
      "source": [
        "# Contar la frecuencia de cada 'id'\n",
        "frecuencia_id = df3['id'].value_counts()"
      ]
    },
    {
      "cell_type": "code",
      "execution_count": 86,
      "metadata": {
        "id": "_5kFWBcXHIHH"
      },
      "outputs": [
        {
          "name": "stdout",
          "output_type": "stream",
          "text": [
            "\n",
            "'id' repetidos:\n",
            "id\n",
            "141971    3\n",
            "97995     2\n",
            "10991     2\n",
            "109962    2\n",
            "119916    2\n",
            "159849    2\n",
            "84198     2\n",
            "132641    2\n",
            "168538    2\n",
            "99080     2\n",
            "18440     2\n",
            "12600     2\n",
            "5511      2\n",
            "105045    2\n",
            "14788     2\n",
            "22649     2\n",
            "15028     2\n",
            "152795    2\n",
            "11115     2\n",
            "298721    2\n",
            "13209     2\n",
            "23305     2\n",
            "110428    2\n",
            "77221     2\n",
            "42495     2\n",
            "25541     2\n",
            "265189    2\n",
            "4912      2\n",
            "69234     2\n",
            "Name: count, dtype: int64\n"
          ]
        }
      ],
      "source": [
        "# Filtrar solo los 'id' que se repiten\n",
        "id_repetidos = frecuencia_id[frecuencia_id > 1]\n",
        "\n",
        "print(\"\\n'id' repetidos:\")\n",
        "print(id_repetidos)"
      ]
    },
    {
      "cell_type": "code",
      "execution_count": 87,
      "metadata": {
        "colab": {
          "base_uri": "https://localhost:8080/"
        },
        "id": "8jUJqNy4KcoP",
        "outputId": "c91936e0-73c1-4400-d191-ff21bbc69019"
      },
      "outputs": [],
      "source": [
        "# Eliminar filas duplicadas basadas en la columna 'id', manteniendo la primera aparición\n",
        "\n",
        "dfmov_sd = df3.drop_duplicates(subset='id', keep='first') #df3_sd = df3 sin duplicados"
      ]
    },
    {
      "cell_type": "code",
      "execution_count": 88,
      "metadata": {
        "colab": {
          "base_uri": "https://localhost:8080/",
          "height": 90
        },
        "id": "PPRy5O2AKquf",
        "outputId": "d42388ad-ba4a-4de5-908b-8480a283bebb"
      },
      "outputs": [
        {
          "data": {
            "text/html": [
              "<div>\n",
              "<style scoped>\n",
              "    .dataframe tbody tr th:only-of-type {\n",
              "        vertical-align: middle;\n",
              "    }\n",
              "\n",
              "    .dataframe tbody tr th {\n",
              "        vertical-align: top;\n",
              "    }\n",
              "\n",
              "    .dataframe thead th {\n",
              "        text-align: right;\n",
              "    }\n",
              "</style>\n",
              "<table border=\"1\" class=\"dataframe\">\n",
              "  <thead>\n",
              "    <tr style=\"text-align: right;\">\n",
              "      <th></th>\n",
              "      <th>budget</th>\n",
              "      <th>id</th>\n",
              "      <th>original_language</th>\n",
              "      <th>overview</th>\n",
              "      <th>popularity</th>\n",
              "      <th>release_date</th>\n",
              "      <th>revenue</th>\n",
              "      <th>runtime</th>\n",
              "      <th>status</th>\n",
              "      <th>tagline</th>\n",
              "      <th>title</th>\n",
              "      <th>vote_average</th>\n",
              "      <th>vote_count</th>\n",
              "      <th>name_coll</th>\n",
              "      <th>name_gen</th>\n",
              "      <th>production_companies</th>\n",
              "      <th>production_countries</th>\n",
              "      <th>languages</th>\n",
              "      <th>return</th>\n",
              "      <th>release_year</th>\n",
              "    </tr>\n",
              "  </thead>\n",
              "  <tbody>\n",
              "  </tbody>\n",
              "</table>\n",
              "</div>"
            ],
            "text/plain": [
              "Empty DataFrame\n",
              "Columns: [budget, id, original_language, overview, popularity, release_date, revenue, runtime, status, tagline, title, vote_average, vote_count, name_coll, name_gen, production_companies, production_countries, languages, return, release_year]\n",
              "Index: []"
            ]
          },
          "execution_count": 88,
          "metadata": {},
          "output_type": "execute_result"
        }
      ],
      "source": [
        "# Comprobar si se eliminaron duplicados\n",
        "dfmov_sd[dfmov_sd.duplicated(subset=['id'], keep=False)]"
      ]
    },
    {
      "cell_type": "markdown",
      "metadata": {
        "id": "Yb-j-4Vzh-wM"
      },
      "source": [
        "## creditos"
      ]
    },
    {
      "cell_type": "markdown",
      "metadata": {
        "id": "n248bA5rjm2p"
      },
      "source": [
        "#### se desanidan cast y crew"
      ]
    },
    {
      "cell_type": "code",
      "execution_count": 91,
      "metadata": {
        "colab": {
          "base_uri": "https://localhost:8080/"
        },
        "id": "xrJAy3gYjBkc",
        "outputId": "5e556cfc-07f1-477c-f848-77bb0c661f3f"
      },
      "outputs": [
        {
          "data": {
            "text/plain": [
              "Index(['cast', 'crew', 'id'], dtype='object')"
            ]
          },
          "execution_count": 91,
          "metadata": {},
          "output_type": "execute_result"
        }
      ],
      "source": [
        "#Imprimir nombre de las columnas\n",
        "dfc.columns"
      ]
    },
    {
      "cell_type": "code",
      "execution_count": 92,
      "metadata": {
        "colab": {
          "base_uri": "https://localhost:8080/"
        },
        "id": "tR_Wxshp_5cs",
        "outputId": "28bce457-7632-46b3-d5c3-370dab61d5f7"
      },
      "outputs": [
        {
          "data": {
            "text/plain": [
              "(45476, 3)"
            ]
          },
          "execution_count": 92,
          "metadata": {},
          "output_type": "execute_result"
        }
      ],
      "source": [
        "dfc.shape"
      ]
    },
    {
      "cell_type": "code",
      "execution_count": 93,
      "metadata": {
        "colab": {
          "base_uri": "https://localhost:8080/",
          "height": 196
        },
        "id": "mu3J7s7ljMUH",
        "outputId": "80375065-4969-4c2b-a806-2e2a375fcd3f"
      },
      "outputs": [
        {
          "data": {
            "text/plain": [
              "cast    0\n",
              "crew    0\n",
              "id      0\n",
              "dtype: int64"
            ]
          },
          "execution_count": 93,
          "metadata": {},
          "output_type": "execute_result"
        }
      ],
      "source": [
        "#Comprobar valores nulos\n",
        "dfc.isnull().sum()"
      ]
    },
    {
      "cell_type": "code",
      "execution_count": 94,
      "metadata": {
        "colab": {
          "base_uri": "https://localhost:8080/",
          "height": 122
        },
        "id": "LcBKwa9LqAzF",
        "outputId": "5c2df034-48a9-4d63-ebec-cc93155397c5"
      },
      "outputs": [
        {
          "data": {
            "text/plain": [
              "\"[{'cast_id': 14, 'character': 'Woody (voice)', 'credit_id': '52fe4284c3a36847f8024f95', 'gender': 2, 'id': 31, 'name': 'Tom Hanks', 'order': 0, 'profile_path': '/pQFoyx7rp09CJTAb932F2g8Nlho.jpg'}, {'cast_id': 15, 'character': 'Buzz Lightyear (voice)', 'credit_id': '52fe4284c3a36847f8024f99', 'gender': 2, 'id': 12898, 'name': 'Tim Allen', 'order': 1, 'profile_path': '/uX2xVf6pMmPepxnvFWyBtjexzgY.jpg'}, {'cast_id': 16, 'character': 'Mr. Potato Head (voice)', 'credit_id': '52fe4284c3a36847f8024f9d', 'gender': 2, 'id': 7167, 'name': 'Don Rickles', 'order': 2, 'profile_path': '/h5BcaDMPRVLHLDzbQavec4xfSdt.jpg'}, {'cast_id': 17, 'character': 'Slinky Dog (voice)', 'credit_id': '52fe4284c3a36847f8024fa1', 'gender': 2, 'id': 12899, 'name': 'Jim Varney', 'order': 3, 'profile_path': '/eIo2jVVXYgjDtaHoF19Ll9vtW7h.jpg'}, {'cast_id': 18, 'character': 'Rex (voice)', 'credit_id': '52fe4284c3a36847f8024fa5', 'gender': 2, 'id': 12900, 'name': 'Wallace Shawn', 'order': 4, 'profile_path': '/oGE6JqPP2xH4tNORKNqxbNPYi7u.jpg'}, {'cast_id': 19, 'character': 'Hamm (voice)', 'credit_id': '52fe4284c3a36847f8024fa9', 'gender': 2, 'id': 7907, 'name': 'John Ratzenberger', 'order': 5, 'profile_path': '/yGechiKWL6TJDfVE2KPSJYqdMsY.jpg'}, {'cast_id': 20, 'character': 'Bo Peep (voice)', 'credit_id': '52fe4284c3a36847f8024fad', 'gender': 1, 'id': 8873, 'name': 'Annie Potts', 'order': 6, 'profile_path': '/eryXT84RL41jHSJcMy4kS3u9y6w.jpg'}, {'cast_id': 26, 'character': 'Andy (voice)', 'credit_id': '52fe4284c3a36847f8024fc1', 'gender': 0, 'id': 1116442, 'name': 'John Morris', 'order': 7, 'profile_path': '/vYGyvK4LzeaUCoNSHtsuqJUY15M.jpg'}, {'cast_id': 22, 'character': 'Sid (voice)', 'credit_id': '52fe4284c3a36847f8024fb1', 'gender': 2, 'id': 12901, 'name': 'Erik von Detten', 'order': 8, 'profile_path': '/twnF1ZaJ1FUNUuo6xLXwcxjayBE.jpg'}, {'cast_id': 23, 'character': 'Mrs. Davis (voice)', 'credit_id': '52fe4284c3a36847f8024fb5', 'gender': 1, 'id': 12133, 'name': 'Laurie Metcalf', 'order': 9, 'profile_path': '/unMMIT60eoBM2sN2nyR7EZ2BvvD.jpg'}, {'cast_id': 24, 'character': 'Sergeant (voice)', 'credit_id': '52fe4284c3a36847f8024fb9', 'gender': 2, 'id': 8655, 'name': 'R. Lee Ermey', 'order': 10, 'profile_path': '/r8GBqFBjypLUP9VVqDqfZ7wYbSs.jpg'}, {'cast_id': 25, 'character': 'Hannah (voice)', 'credit_id': '52fe4284c3a36847f8024fbd', 'gender': 1, 'id': 12903, 'name': 'Sarah Freeman', 'order': 11, 'profile_path': None}, {'cast_id': 27, 'character': 'TV Announcer (voice)', 'credit_id': '52fe4284c3a36847f8024fc5', 'gender': 2, 'id': 37221, 'name': 'Penn Jillette', 'order': 12, 'profile_path': '/zmAaXUdx12NRsssgHbk1T31j2x9.jpg'}]\""
            ]
          },
          "execution_count": 94,
          "metadata": {},
          "output_type": "execute_result"
        }
      ],
      "source": [
        "dfc.cast.iloc[0]"
      ]
    },
    {
      "cell_type": "code",
      "execution_count": 95,
      "metadata": {
        "colab": {
          "base_uri": "https://localhost:8080/"
        },
        "id": "A9M3Jz3kkSVh",
        "outputId": "feb17cf4-c430-4c1b-ab98-f40a2e2aeca1"
      },
      "outputs": [
        {
          "name": "stdout",
          "output_type": "stream",
          "text": [
            "[{'cast_id': 14, 'character': 'Woody (voice)', 'credit_id': '52fe4284c3a36847f8024f95', 'gender': 2, 'id': 31, 'name': 'Tom Hanks', 'order': 0, 'profile_path': '/pQFoyx7rp09CJTAb932F2g8Nlho.jpg'}, {'cast_id': 15, 'character': 'Buzz Lightyear (voice)', 'credit_id': '52fe4284c3a36847f8024f99', 'gender': 2, 'id': 12898, 'name': 'Tim Allen', 'order': 1, 'profile_path': '/uX2xVf6pMmPepxnvFWyBtjexzgY.jpg'}, {'cast_id': 16, 'character': 'Mr. Potato Head (voice)', 'credit_id': '52fe4284c3a36847f8024f9d', 'gender': 2, 'id': 7167, 'name': 'Don Rickles', 'order': 2, 'profile_path': '/h5BcaDMPRVLHLDzbQavec4xfSdt.jpg'}, {'cast_id': 17, 'character': 'Slinky Dog (voice)', 'credit_id': '52fe4284c3a36847f8024fa1', 'gender': 2, 'id': 12899, 'name': 'Jim Varney', 'order': 3, 'profile_path': '/eIo2jVVXYgjDtaHoF19Ll9vtW7h.jpg'}, {'cast_id': 18, 'character': 'Rex (voice)', 'credit_id': '52fe4284c3a36847f8024fa5', 'gender': 2, 'id': 12900, 'name': 'Wallace Shawn', 'order': 4, 'profile_path': '/oGE6JqPP2xH4tNORKNqxbNPYi7u.jpg'}, {'cast_id': 19, 'character': 'Hamm (voice)', 'credit_id': '52fe4284c3a36847f8024fa9', 'gender': 2, 'id': 7907, 'name': 'John Ratzenberger', 'order': 5, 'profile_path': '/yGechiKWL6TJDfVE2KPSJYqdMsY.jpg'}, {'cast_id': 20, 'character': 'Bo Peep (voice)', 'credit_id': '52fe4284c3a36847f8024fad', 'gender': 1, 'id': 8873, 'name': 'Annie Potts', 'order': 6, 'profile_path': '/eryXT84RL41jHSJcMy4kS3u9y6w.jpg'}, {'cast_id': 26, 'character': 'Andy (voice)', 'credit_id': '52fe4284c3a36847f8024fc1', 'gender': 0, 'id': 1116442, 'name': 'John Morris', 'order': 7, 'profile_path': '/vYGyvK4LzeaUCoNSHtsuqJUY15M.jpg'}, {'cast_id': 22, 'character': 'Sid (voice)', 'credit_id': '52fe4284c3a36847f8024fb1', 'gender': 2, 'id': 12901, 'name': 'Erik von Detten', 'order': 8, 'profile_path': '/twnF1ZaJ1FUNUuo6xLXwcxjayBE.jpg'}, {'cast_id': 23, 'character': 'Mrs. Davis (voice)', 'credit_id': '52fe4284c3a36847f8024fb5', 'gender': 1, 'id': 12133, 'name': 'Laurie Metcalf', 'order': 9, 'profile_path': '/unMMIT60eoBM2sN2nyR7EZ2BvvD.jpg'}, {'cast_id': 24, 'character': 'Sergeant (voice)', 'credit_id': '52fe4284c3a36847f8024fb9', 'gender': 2, 'id': 8655, 'name': 'R. Lee Ermey', 'order': 10, 'profile_path': '/r8GBqFBjypLUP9VVqDqfZ7wYbSs.jpg'}, {'cast_id': 25, 'character': 'Hannah (voice)', 'credit_id': '52fe4284c3a36847f8024fbd', 'gender': 1, 'id': 12903, 'name': 'Sarah Freeman', 'order': 11, 'profile_path': None}, {'cast_id': 27, 'character': 'TV Announcer (voice)', 'credit_id': '52fe4284c3a36847f8024fc5', 'gender': 2, 'id': 37221, 'name': 'Penn Jillette', 'order': 12, 'profile_path': '/zmAaXUdx12NRsssgHbk1T31j2x9.jpg'}]\n"
          ]
        }
      ],
      "source": [
        "print(dfc.cast.loc[0])"
      ]
    },
    {
      "cell_type": "code",
      "execution_count": 96,
      "metadata": {
        "colab": {
          "base_uri": "https://localhost:8080/"
        },
        "id": "Z88UFyWH0X7q",
        "outputId": "adbfad46-29dd-483a-b165-7f500940f401"
      },
      "outputs": [],
      "source": [
        "# Función para extraer claves y valores\n",
        "def extraer_claves_valores(diccionarios):\n",
        "    if isinstance(diccionarios, str):\n",
        "        try:\n",
        "            diccionarios = ast.literal_eval(diccionarios)\n",
        "        except (SyntaxError, ValueError):\n",
        "            return []\n",
        "\n",
        "    if not isinstance(diccionarios, list):\n",
        "        return []\n",
        "\n",
        "    resultado = []\n",
        "    for diccionario in diccionarios:\n",
        "        resultado.append(diccionario)\n",
        "    return resultado\n",
        "\n",
        "# Aplicar la función a la columna 'cast'\n",
        "dfc['cast'] = dfc['cast'].apply(extraer_claves_valores)"
      ]
    },
    {
      "cell_type": "code",
      "execution_count": 97,
      "metadata": {
        "colab": {
          "base_uri": "https://localhost:8080/"
        },
        "id": "uY9R0Dar5M9S",
        "outputId": "071e56c2-9c88-4089-eddc-75c44a26127c"
      },
      "outputs": [],
      "source": [
        "# Convertir las listas de diccionarios en DataFrame\n",
        "dfc1 = dfc['cast'].explode().apply(pd.Series)"
      ]
    },
    {
      "cell_type": "code",
      "execution_count": 98,
      "metadata": {
        "colab": {
          "base_uri": "https://localhost:8080/",
          "height": 224
        },
        "id": "MPJfsHdR5Acf",
        "outputId": "cbfb8d2e-8c83-459a-a76e-3830999523cc"
      },
      "outputs": [
        {
          "data": {
            "text/html": [
              "<div>\n",
              "<style scoped>\n",
              "    .dataframe tbody tr th:only-of-type {\n",
              "        vertical-align: middle;\n",
              "    }\n",
              "\n",
              "    .dataframe tbody tr th {\n",
              "        vertical-align: top;\n",
              "    }\n",
              "\n",
              "    .dataframe thead th {\n",
              "        text-align: right;\n",
              "    }\n",
              "</style>\n",
              "<table border=\"1\" class=\"dataframe\">\n",
              "  <thead>\n",
              "    <tr style=\"text-align: right;\">\n",
              "      <th></th>\n",
              "      <th>cast_id</th>\n",
              "      <th>character</th>\n",
              "      <th>credit_id</th>\n",
              "      <th>gender</th>\n",
              "      <th>id</th>\n",
              "      <th>name</th>\n",
              "      <th>order</th>\n",
              "      <th>profile_path</th>\n",
              "      <th>0</th>\n",
              "    </tr>\n",
              "  </thead>\n",
              "  <tbody>\n",
              "    <tr>\n",
              "      <th>0</th>\n",
              "      <td>14.0</td>\n",
              "      <td>Woody (voice)</td>\n",
              "      <td>52fe4284c3a36847f8024f95</td>\n",
              "      <td>2.0</td>\n",
              "      <td>31.0</td>\n",
              "      <td>Tom Hanks</td>\n",
              "      <td>0.0</td>\n",
              "      <td>/pQFoyx7rp09CJTAb932F2g8Nlho.jpg</td>\n",
              "      <td>NaN</td>\n",
              "    </tr>\n",
              "    <tr>\n",
              "      <th>0</th>\n",
              "      <td>15.0</td>\n",
              "      <td>Buzz Lightyear (voice)</td>\n",
              "      <td>52fe4284c3a36847f8024f99</td>\n",
              "      <td>2.0</td>\n",
              "      <td>12898.0</td>\n",
              "      <td>Tim Allen</td>\n",
              "      <td>1.0</td>\n",
              "      <td>/uX2xVf6pMmPepxnvFWyBtjexzgY.jpg</td>\n",
              "      <td>NaN</td>\n",
              "    </tr>\n",
              "    <tr>\n",
              "      <th>0</th>\n",
              "      <td>16.0</td>\n",
              "      <td>Mr. Potato Head (voice)</td>\n",
              "      <td>52fe4284c3a36847f8024f9d</td>\n",
              "      <td>2.0</td>\n",
              "      <td>7167.0</td>\n",
              "      <td>Don Rickles</td>\n",
              "      <td>2.0</td>\n",
              "      <td>/h5BcaDMPRVLHLDzbQavec4xfSdt.jpg</td>\n",
              "      <td>NaN</td>\n",
              "    </tr>\n",
              "    <tr>\n",
              "      <th>0</th>\n",
              "      <td>17.0</td>\n",
              "      <td>Slinky Dog (voice)</td>\n",
              "      <td>52fe4284c3a36847f8024fa1</td>\n",
              "      <td>2.0</td>\n",
              "      <td>12899.0</td>\n",
              "      <td>Jim Varney</td>\n",
              "      <td>3.0</td>\n",
              "      <td>/eIo2jVVXYgjDtaHoF19Ll9vtW7h.jpg</td>\n",
              "      <td>NaN</td>\n",
              "    </tr>\n",
              "    <tr>\n",
              "      <th>0</th>\n",
              "      <td>18.0</td>\n",
              "      <td>Rex (voice)</td>\n",
              "      <td>52fe4284c3a36847f8024fa5</td>\n",
              "      <td>2.0</td>\n",
              "      <td>12900.0</td>\n",
              "      <td>Wallace Shawn</td>\n",
              "      <td>4.0</td>\n",
              "      <td>/oGE6JqPP2xH4tNORKNqxbNPYi7u.jpg</td>\n",
              "      <td>NaN</td>\n",
              "    </tr>\n",
              "  </tbody>\n",
              "</table>\n",
              "</div>"
            ],
            "text/plain": [
              "   cast_id                character                 credit_id  gender  \\\n",
              "0     14.0            Woody (voice)  52fe4284c3a36847f8024f95     2.0   \n",
              "0     15.0   Buzz Lightyear (voice)  52fe4284c3a36847f8024f99     2.0   \n",
              "0     16.0  Mr. Potato Head (voice)  52fe4284c3a36847f8024f9d     2.0   \n",
              "0     17.0       Slinky Dog (voice)  52fe4284c3a36847f8024fa1     2.0   \n",
              "0     18.0              Rex (voice)  52fe4284c3a36847f8024fa5     2.0   \n",
              "\n",
              "        id           name  order                      profile_path   0  \n",
              "0     31.0      Tom Hanks    0.0  /pQFoyx7rp09CJTAb932F2g8Nlho.jpg NaN  \n",
              "0  12898.0      Tim Allen    1.0  /uX2xVf6pMmPepxnvFWyBtjexzgY.jpg NaN  \n",
              "0   7167.0    Don Rickles    2.0  /h5BcaDMPRVLHLDzbQavec4xfSdt.jpg NaN  \n",
              "0  12899.0     Jim Varney    3.0  /eIo2jVVXYgjDtaHoF19Ll9vtW7h.jpg NaN  \n",
              "0  12900.0  Wallace Shawn    4.0  /oGE6JqPP2xH4tNORKNqxbNPYi7u.jpg NaN  "
            ]
          },
          "execution_count": 98,
          "metadata": {},
          "output_type": "execute_result"
        }
      ],
      "source": [
        "dfc1[:5]"
      ]
    },
    {
      "cell_type": "code",
      "execution_count": 99,
      "metadata": {
        "colab": {
          "base_uri": "https://localhost:8080/"
        },
        "id": "YoQbzG2WbONv",
        "outputId": "44c260a1-47c9-43ed-f346-6efc0898b39c"
      },
      "outputs": [],
      "source": [
        "dfc2 = dfc1[['name']]"
      ]
    },
    {
      "cell_type": "code",
      "execution_count": 100,
      "metadata": {
        "colab": {
          "base_uri": "https://localhost:8080/",
          "height": 129
        },
        "id": "KOKhizT5xjpM",
        "outputId": "1512fcba-6582-464c-d016-f23e7f6251ee"
      },
      "outputs": [
        {
          "data": {
            "text/html": [
              "<div>\n",
              "<style scoped>\n",
              "    .dataframe tbody tr th:only-of-type {\n",
              "        vertical-align: middle;\n",
              "    }\n",
              "\n",
              "    .dataframe tbody tr th {\n",
              "        vertical-align: top;\n",
              "    }\n",
              "\n",
              "    .dataframe thead th {\n",
              "        text-align: right;\n",
              "    }\n",
              "</style>\n",
              "<table border=\"1\" class=\"dataframe\">\n",
              "  <thead>\n",
              "    <tr style=\"text-align: right;\">\n",
              "      <th></th>\n",
              "      <th>name</th>\n",
              "    </tr>\n",
              "  </thead>\n",
              "  <tbody>\n",
              "    <tr>\n",
              "      <th>0</th>\n",
              "      <td>Tom Hanks</td>\n",
              "    </tr>\n",
              "    <tr>\n",
              "      <th>0</th>\n",
              "      <td>Tim Allen</td>\n",
              "    </tr>\n",
              "  </tbody>\n",
              "</table>\n",
              "</div>"
            ],
            "text/plain": [
              "        name\n",
              "0  Tom Hanks\n",
              "0  Tim Allen"
            ]
          },
          "execution_count": 100,
          "metadata": {},
          "output_type": "execute_result"
        }
      ],
      "source": [
        "dfc2[:2]"
      ]
    },
    {
      "cell_type": "code",
      "execution_count": 101,
      "metadata": {
        "colab": {
          "base_uri": "https://localhost:8080/"
        },
        "id": "pxAmjvqMrFe2",
        "outputId": "0d6c7796-440f-4b65-88ab-2e3935751eb4"
      },
      "outputs": [],
      "source": [
        "# concatenamos los valores\n",
        "dfc2_ind = dfc2.groupby(dfc2.index)['name'].apply(lambda x: ', '.join(x.astype(str))).reset_index()\n"
      ]
    },
    {
      "cell_type": "code",
      "execution_count": 102,
      "metadata": {
        "colab": {
          "base_uri": "https://localhost:8080/",
          "height": 129
        },
        "id": "oJRY7U7Ic8G7",
        "outputId": "999ddf45-0dab-4fcb-e2c9-4ad90529fb87"
      },
      "outputs": [
        {
          "data": {
            "text/html": [
              "<div>\n",
              "<style scoped>\n",
              "    .dataframe tbody tr th:only-of-type {\n",
              "        vertical-align: middle;\n",
              "    }\n",
              "\n",
              "    .dataframe tbody tr th {\n",
              "        vertical-align: top;\n",
              "    }\n",
              "\n",
              "    .dataframe thead th {\n",
              "        text-align: right;\n",
              "    }\n",
              "</style>\n",
              "<table border=\"1\" class=\"dataframe\">\n",
              "  <thead>\n",
              "    <tr style=\"text-align: right;\">\n",
              "      <th></th>\n",
              "      <th>index</th>\n",
              "      <th>name</th>\n",
              "    </tr>\n",
              "  </thead>\n",
              "  <tbody>\n",
              "    <tr>\n",
              "      <th>0</th>\n",
              "      <td>0</td>\n",
              "      <td>Tom Hanks, Tim Allen, Don Rickles, Jim Varney,...</td>\n",
              "    </tr>\n",
              "    <tr>\n",
              "      <th>1</th>\n",
              "      <td>1</td>\n",
              "      <td>Robin Williams, Jonathan Hyde, Kirsten Dunst, ...</td>\n",
              "    </tr>\n",
              "  </tbody>\n",
              "</table>\n",
              "</div>"
            ],
            "text/plain": [
              "   index                                               name\n",
              "0      0  Tom Hanks, Tim Allen, Don Rickles, Jim Varney,...\n",
              "1      1  Robin Williams, Jonathan Hyde, Kirsten Dunst, ..."
            ]
          },
          "execution_count": 102,
          "metadata": {},
          "output_type": "execute_result"
        }
      ],
      "source": [
        "dfc2_ind[:2]"
      ]
    },
    {
      "cell_type": "code",
      "execution_count": 103,
      "metadata": {
        "colab": {
          "base_uri": "https://localhost:8080/"
        },
        "id": "VhJqZkUWdHzi",
        "outputId": "49a1fc67-ae9b-424c-9e10-9c53c8d5b557"
      },
      "outputs": [],
      "source": [
        "#Renombrar la columna 'name' por 'actors'\n",
        "dfc2_ind = dfc2_ind.rename(columns = {'name' : 'actors'})\n"
      ]
    },
    {
      "cell_type": "code",
      "execution_count": 104,
      "metadata": {
        "colab": {
          "base_uri": "https://localhost:8080/"
        },
        "id": "GqVYzFCudcJ0",
        "outputId": "a63c4a98-b771-41e7-987d-66f11ba013bc"
      },
      "outputs": [],
      "source": [
        "#Obtener el df final para actores\n",
        "dfc_act = dfc2_ind[['actors']]"
      ]
    },
    {
      "cell_type": "code",
      "execution_count": 105,
      "metadata": {
        "colab": {
          "base_uri": "https://localhost:8080/",
          "height": 129
        },
        "id": "NzJpzQKXdtMa",
        "outputId": "c1c02d2c-7914-413b-e5ec-ea2e357188e5"
      },
      "outputs": [
        {
          "data": {
            "text/html": [
              "<div>\n",
              "<style scoped>\n",
              "    .dataframe tbody tr th:only-of-type {\n",
              "        vertical-align: middle;\n",
              "    }\n",
              "\n",
              "    .dataframe tbody tr th {\n",
              "        vertical-align: top;\n",
              "    }\n",
              "\n",
              "    .dataframe thead th {\n",
              "        text-align: right;\n",
              "    }\n",
              "</style>\n",
              "<table border=\"1\" class=\"dataframe\">\n",
              "  <thead>\n",
              "    <tr style=\"text-align: right;\">\n",
              "      <th></th>\n",
              "      <th>actors</th>\n",
              "    </tr>\n",
              "  </thead>\n",
              "  <tbody>\n",
              "    <tr>\n",
              "      <th>0</th>\n",
              "      <td>Tom Hanks, Tim Allen, Don Rickles, Jim Varney,...</td>\n",
              "    </tr>\n",
              "    <tr>\n",
              "      <th>1</th>\n",
              "      <td>Robin Williams, Jonathan Hyde, Kirsten Dunst, ...</td>\n",
              "    </tr>\n",
              "  </tbody>\n",
              "</table>\n",
              "</div>"
            ],
            "text/plain": [
              "                                              actors\n",
              "0  Tom Hanks, Tim Allen, Don Rickles, Jim Varney,...\n",
              "1  Robin Williams, Jonathan Hyde, Kirsten Dunst, ..."
            ]
          },
          "execution_count": 105,
          "metadata": {},
          "output_type": "execute_result"
        }
      ],
      "source": [
        "dfc_act[:2]"
      ]
    },
    {
      "cell_type": "code",
      "execution_count": 106,
      "metadata": {
        "colab": {
          "base_uri": "https://localhost:8080/"
        },
        "id": "uLv0Tj3rzcn0",
        "outputId": "f38514f3-1834-46ba-b4a1-1b007b8482af"
      },
      "outputs": [],
      "source": [
        "# Combinar el resultado con el DataFrame original para mantener todas las filas\n",
        "df_final_act = dfc[['id']].join(dfc_act, how='left')"
      ]
    },
    {
      "cell_type": "code",
      "execution_count": 107,
      "metadata": {
        "colab": {
          "base_uri": "https://localhost:8080/",
          "height": 192
        },
        "id": "tGHi4ML60zJ0",
        "outputId": "495c3a6a-a099-4dba-b8ac-ebcc272bd82e"
      },
      "outputs": [
        {
          "data": {
            "text/html": [
              "<div>\n",
              "<style scoped>\n",
              "    .dataframe tbody tr th:only-of-type {\n",
              "        vertical-align: middle;\n",
              "    }\n",
              "\n",
              "    .dataframe tbody tr th {\n",
              "        vertical-align: top;\n",
              "    }\n",
              "\n",
              "    .dataframe thead th {\n",
              "        text-align: right;\n",
              "    }\n",
              "</style>\n",
              "<table border=\"1\" class=\"dataframe\">\n",
              "  <thead>\n",
              "    <tr style=\"text-align: right;\">\n",
              "      <th></th>\n",
              "      <th>id</th>\n",
              "      <th>actors</th>\n",
              "    </tr>\n",
              "  </thead>\n",
              "  <tbody>\n",
              "    <tr>\n",
              "      <th>0</th>\n",
              "      <td>862</td>\n",
              "      <td>Tom Hanks, Tim Allen, Don Rickles, Jim Varney,...</td>\n",
              "    </tr>\n",
              "    <tr>\n",
              "      <th>1</th>\n",
              "      <td>8844</td>\n",
              "      <td>Robin Williams, Jonathan Hyde, Kirsten Dunst, ...</td>\n",
              "    </tr>\n",
              "    <tr>\n",
              "      <th>2</th>\n",
              "      <td>15602</td>\n",
              "      <td>Walter Matthau, Jack Lemmon, Ann-Margret, Soph...</td>\n",
              "    </tr>\n",
              "    <tr>\n",
              "      <th>3</th>\n",
              "      <td>31357</td>\n",
              "      <td>Whitney Houston, Angela Bassett, Loretta Devin...</td>\n",
              "    </tr>\n",
              "  </tbody>\n",
              "</table>\n",
              "</div>"
            ],
            "text/plain": [
              "      id                                             actors\n",
              "0    862  Tom Hanks, Tim Allen, Don Rickles, Jim Varney,...\n",
              "1   8844  Robin Williams, Jonathan Hyde, Kirsten Dunst, ...\n",
              "2  15602  Walter Matthau, Jack Lemmon, Ann-Margret, Soph...\n",
              "3  31357  Whitney Houston, Angela Bassett, Loretta Devin..."
            ]
          },
          "execution_count": 107,
          "metadata": {},
          "output_type": "execute_result"
        }
      ],
      "source": [
        "df_final_act[:4]"
      ]
    },
    {
      "cell_type": "markdown",
      "metadata": {
        "id": "Mdz7mrjseryz"
      },
      "source": [
        "#### crew"
      ]
    },
    {
      "cell_type": "code",
      "execution_count": 109,
      "metadata": {
        "colab": {
          "base_uri": "https://localhost:8080/"
        },
        "id": "a1Eh0q7rs8J6",
        "outputId": "b67a970b-32da-48c1-f829-a9615c0798fd"
      },
      "outputs": [],
      "source": [
        "# Aplicar la función a la columna 'crew'\n",
        "dfc['crew'] = dfc['crew'].apply(extraer_claves_valores)\n",
        "\n",
        "# Reemplazar listas vacías con [np.nan]\n",
        "dfc['crew'] = dfc['crew'].apply(lambda x: x if x else [np.nan])\n",
        "\n",
        "# Explosiona y convierte a DataFrame, manteniendo los NaN\n",
        "dfc11 = dfc['crew'].explode().apply(pd.Series)\n",
        "\n",
        "# Agregar un índice auxiliar único\n",
        "dfc11['unique_index'] = dfc11.index\n",
        "\n",
        "# Filtrar los datos donde 'job' es 'Director'\n",
        "df_directors = dfc11[dfc11['job'] == 'Director']"
      ]
    },
    {
      "cell_type": "code",
      "execution_count": 110,
      "metadata": {
        "colab": {
          "base_uri": "https://localhost:8080/"
        },
        "id": "-_qGcdQLwAQp",
        "outputId": "d8981730-48f9-497c-bd62-84733d4f3341"
      },
      "outputs": [],
      "source": [
        "# Agrupar y concatenar, asegurando que los NaN se mantengan\n",
        "dfc22_ind = df_directors.groupby('unique_index')['name'].apply(lambda x: ', '.join(x.dropna().astype(str))).reset_index()\n",
        "\n",
        "# Combinar el resultado con el DataFrame original para mantener todas las filas\n",
        "df_final_dir = dfc[['id']].join(dfc22_ind.set_index('unique_index'), how='left')"
      ]
    },
    {
      "cell_type": "code",
      "execution_count": 111,
      "metadata": {
        "colab": {
          "base_uri": "https://localhost:8080/",
          "height": 224
        },
        "id": "qhQIEvH8wIfv",
        "outputId": "8136d453-05e3-40dd-9358-a70d342c51c7"
      },
      "outputs": [
        {
          "data": {
            "text/html": [
              "<div>\n",
              "<style scoped>\n",
              "    .dataframe tbody tr th:only-of-type {\n",
              "        vertical-align: middle;\n",
              "    }\n",
              "\n",
              "    .dataframe tbody tr th {\n",
              "        vertical-align: top;\n",
              "    }\n",
              "\n",
              "    .dataframe thead th {\n",
              "        text-align: right;\n",
              "    }\n",
              "</style>\n",
              "<table border=\"1\" class=\"dataframe\">\n",
              "  <thead>\n",
              "    <tr style=\"text-align: right;\">\n",
              "      <th></th>\n",
              "      <th>id</th>\n",
              "      <th>name</th>\n",
              "    </tr>\n",
              "  </thead>\n",
              "  <tbody>\n",
              "    <tr>\n",
              "      <th>0</th>\n",
              "      <td>862</td>\n",
              "      <td>John Lasseter</td>\n",
              "    </tr>\n",
              "    <tr>\n",
              "      <th>1</th>\n",
              "      <td>8844</td>\n",
              "      <td>Joe Johnston</td>\n",
              "    </tr>\n",
              "    <tr>\n",
              "      <th>2</th>\n",
              "      <td>15602</td>\n",
              "      <td>Howard Deutch</td>\n",
              "    </tr>\n",
              "    <tr>\n",
              "      <th>3</th>\n",
              "      <td>31357</td>\n",
              "      <td>Forest Whitaker</td>\n",
              "    </tr>\n",
              "    <tr>\n",
              "      <th>4</th>\n",
              "      <td>11862</td>\n",
              "      <td>Charles Shyer</td>\n",
              "    </tr>\n",
              "  </tbody>\n",
              "</table>\n",
              "</div>"
            ],
            "text/plain": [
              "      id             name\n",
              "0    862    John Lasseter\n",
              "1   8844     Joe Johnston\n",
              "2  15602    Howard Deutch\n",
              "3  31357  Forest Whitaker\n",
              "4  11862    Charles Shyer"
            ]
          },
          "execution_count": 111,
          "metadata": {},
          "output_type": "execute_result"
        }
      ],
      "source": [
        "df_final_dir[:5]"
      ]
    },
    {
      "cell_type": "markdown",
      "metadata": {
        "id": "LdeGIe6K3S8Y"
      },
      "source": [
        "Se renombra la columna id del dataframe directores y del dataframe actores, para comprobar si sus id coinciden"
      ]
    },
    {
      "cell_type": "code",
      "execution_count": 112,
      "metadata": {
        "colab": {
          "base_uri": "https://localhost:8080/"
        },
        "id": "jdl4nBUc3SBK",
        "outputId": "31311f10-a233-44b2-b34b-182a63ebcb32"
      },
      "outputs": [],
      "source": [
        "df_final_dir = df_final_dir.rename(columns = {'id' : 'id_dir', 'name' : 'director'})\n",
        "\n",
        "df_final_act = df_final_act.rename(columns = {'id' : 'id_act'})\n",
        "\n"
      ]
    },
    {
      "cell_type": "code",
      "execution_count": 113,
      "metadata": {
        "colab": {
          "base_uri": "https://localhost:8080/"
        },
        "id": "hYTz7ZwG2eN-",
        "outputId": "62cc0c0b-e697-4420-9295-32fb226a6eb0"
      },
      "outputs": [],
      "source": [
        "# Se concatenan los DataFrames horizontalmente\n",
        "dfcred = pd.concat([df_final_act, df_final_dir], axis=1)\n"
      ]
    },
    {
      "cell_type": "code",
      "execution_count": 115,
      "metadata": {
        "colab": {
          "base_uri": "https://localhost:8080/",
          "height": 129
        },
        "id": "nDdEZLZG2kLG",
        "outputId": "94484bf8-8d44-4113-ff0b-a4809d71568e"
      },
      "outputs": [
        {
          "data": {
            "text/html": [
              "<div>\n",
              "<style scoped>\n",
              "    .dataframe tbody tr th:only-of-type {\n",
              "        vertical-align: middle;\n",
              "    }\n",
              "\n",
              "    .dataframe tbody tr th {\n",
              "        vertical-align: top;\n",
              "    }\n",
              "\n",
              "    .dataframe thead th {\n",
              "        text-align: right;\n",
              "    }\n",
              "</style>\n",
              "<table border=\"1\" class=\"dataframe\">\n",
              "  <thead>\n",
              "    <tr style=\"text-align: right;\">\n",
              "      <th></th>\n",
              "      <th>id_act</th>\n",
              "      <th>actors</th>\n",
              "      <th>id_dir</th>\n",
              "      <th>director</th>\n",
              "    </tr>\n",
              "  </thead>\n",
              "  <tbody>\n",
              "    <tr>\n",
              "      <th>0</th>\n",
              "      <td>862</td>\n",
              "      <td>Tom Hanks, Tim Allen, Don Rickles, Jim Varney,...</td>\n",
              "      <td>862</td>\n",
              "      <td>John Lasseter</td>\n",
              "    </tr>\n",
              "    <tr>\n",
              "      <th>1</th>\n",
              "      <td>8844</td>\n",
              "      <td>Robin Williams, Jonathan Hyde, Kirsten Dunst, ...</td>\n",
              "      <td>8844</td>\n",
              "      <td>Joe Johnston</td>\n",
              "    </tr>\n",
              "  </tbody>\n",
              "</table>\n",
              "</div>"
            ],
            "text/plain": [
              "   id_act                                             actors  id_dir  \\\n",
              "0     862  Tom Hanks, Tim Allen, Don Rickles, Jim Varney,...     862   \n",
              "1    8844  Robin Williams, Jonathan Hyde, Kirsten Dunst, ...    8844   \n",
              "\n",
              "        director  \n",
              "0  John Lasseter  \n",
              "1   Joe Johnston  "
            ]
          },
          "execution_count": 115,
          "metadata": {},
          "output_type": "execute_result"
        }
      ],
      "source": [
        "dfcred[:2]"
      ]
    },
    {
      "cell_type": "code",
      "execution_count": 116,
      "metadata": {
        "colab": {
          "base_uri": "https://localhost:8080/"
        },
        "id": "Nuu3RQGf3Gy_",
        "outputId": "f676d087-52f3-43ff-ea06-dcde53f2482e"
      },
      "outputs": [],
      "source": [
        "# Comprobar si los valores en 'id_act' y 'id_dir' coinciden\n",
        "coincidencias = dfcred['id_act'] == dfcred['id_dir']\n"
      ]
    },
    {
      "cell_type": "code",
      "execution_count": 117,
      "metadata": {
        "id": "zFmY-Ios8RSE"
      },
      "outputs": [
        {
          "data": {
            "text/plain": [
              "0        True\n",
              "1        True\n",
              "2        True\n",
              "3        True\n",
              "4        True\n",
              "         ... \n",
              "45471    True\n",
              "45472    True\n",
              "45473    True\n",
              "45474    True\n",
              "45475    True\n",
              "Length: 45476, dtype: bool"
            ]
          },
          "execution_count": 117,
          "metadata": {},
          "output_type": "execute_result"
        }
      ],
      "source": [
        "coincidencias"
      ]
    },
    {
      "cell_type": "code",
      "execution_count": 118,
      "metadata": {
        "colab": {
          "base_uri": "https://localhost:8080/"
        },
        "id": "6syUw-wE8bQ1",
        "outputId": "dd6536e4-091c-4513-8371-19cd3657b0b9"
      },
      "outputs": [
        {
          "name": "stdout",
          "output_type": "stream",
          "text": [
            "45476\n"
          ]
        }
      ],
      "source": [
        "# Contar el número de coincidencias\n",
        "print(coincidencias.sum())"
      ]
    },
    {
      "cell_type": "markdown",
      "metadata": {
        "id": "p7w3SXhR8ptf"
      },
      "source": [
        "Se Comprueba que los id de cada dataframe coinciden, por lo tanto se decide quedar con un solo id"
      ]
    },
    {
      "cell_type": "code",
      "execution_count": 119,
      "metadata": {
        "colab": {
          "base_uri": "https://localhost:8080/"
        },
        "id": "WMW5oj_993by",
        "outputId": "f96cfc47-daf1-4ea5-9fa0-647863786fec"
      },
      "outputs": [],
      "source": [
        "dfcred = dfcred[['id_act', 'actors', 'director']]"
      ]
    },
    {
      "cell_type": "code",
      "execution_count": 120,
      "metadata": {
        "colab": {
          "base_uri": "https://localhost:8080/"
        },
        "id": "93-AKxMU-I20",
        "outputId": "50e3bb15-d54a-4a53-88f8-eaae9721c679"
      },
      "outputs": [
        {
          "data": {
            "text/plain": [
              "Index(['id_act', 'actors', 'director'], dtype='object')"
            ]
          },
          "execution_count": 120,
          "metadata": {},
          "output_type": "execute_result"
        }
      ],
      "source": [
        "dfcred.columns"
      ]
    },
    {
      "cell_type": "code",
      "execution_count": 122,
      "metadata": {
        "colab": {
          "base_uri": "https://localhost:8080/"
        },
        "id": "7jB3TGsKR52m",
        "outputId": "fc60ba42-a615-4fde-d68d-310f09b9df55"
      },
      "outputs": [],
      "source": [
        "#Renombrar la columna 'id_act' por 'id_cred'\n",
        "dfcred = dfcred.rename(columns = {'id_act' : 'id'})"
      ]
    },
    {
      "cell_type": "code",
      "execution_count": 123,
      "metadata": {
        "colab": {
          "base_uri": "https://localhost:8080/",
          "height": 129
        },
        "id": "xLZKzPFG-h_r",
        "outputId": "b8af2ce2-febb-49cb-aed0-a8c2e49c3515"
      },
      "outputs": [
        {
          "data": {
            "text/html": [
              "<div>\n",
              "<style scoped>\n",
              "    .dataframe tbody tr th:only-of-type {\n",
              "        vertical-align: middle;\n",
              "    }\n",
              "\n",
              "    .dataframe tbody tr th {\n",
              "        vertical-align: top;\n",
              "    }\n",
              "\n",
              "    .dataframe thead th {\n",
              "        text-align: right;\n",
              "    }\n",
              "</style>\n",
              "<table border=\"1\" class=\"dataframe\">\n",
              "  <thead>\n",
              "    <tr style=\"text-align: right;\">\n",
              "      <th></th>\n",
              "      <th>id</th>\n",
              "      <th>actors</th>\n",
              "      <th>director</th>\n",
              "    </tr>\n",
              "  </thead>\n",
              "  <tbody>\n",
              "    <tr>\n",
              "      <th>0</th>\n",
              "      <td>862</td>\n",
              "      <td>Tom Hanks, Tim Allen, Don Rickles, Jim Varney,...</td>\n",
              "      <td>John Lasseter</td>\n",
              "    </tr>\n",
              "    <tr>\n",
              "      <th>1</th>\n",
              "      <td>8844</td>\n",
              "      <td>Robin Williams, Jonathan Hyde, Kirsten Dunst, ...</td>\n",
              "      <td>Joe Johnston</td>\n",
              "    </tr>\n",
              "  </tbody>\n",
              "</table>\n",
              "</div>"
            ],
            "text/plain": [
              "     id                                             actors       director\n",
              "0   862  Tom Hanks, Tim Allen, Don Rickles, Jim Varney,...  John Lasseter\n",
              "1  8844  Robin Williams, Jonathan Hyde, Kirsten Dunst, ...   Joe Johnston"
            ]
          },
          "execution_count": 123,
          "metadata": {},
          "output_type": "execute_result"
        }
      ],
      "source": [
        "dfcred[:2]"
      ]
    },
    {
      "cell_type": "code",
      "execution_count": 124,
      "metadata": {
        "colab": {
          "base_uri": "https://localhost:8080/"
        },
        "id": "Tw0hSdsX_Efi",
        "outputId": "747ea2f5-695f-4039-8b90-6b5ccaeefb91"
      },
      "outputs": [
        {
          "data": {
            "text/plain": [
              "(45476, 3)"
            ]
          },
          "execution_count": 124,
          "metadata": {},
          "output_type": "execute_result"
        }
      ],
      "source": [
        "dfcred.shape"
      ]
    },
    {
      "cell_type": "markdown",
      "metadata": {
        "id": "wAep3-83VFN6"
      },
      "source": [
        "#### Duplicados"
      ]
    },
    {
      "cell_type": "code",
      "execution_count": 125,
      "metadata": {
        "colab": {
          "base_uri": "https://localhost:8080/"
        },
        "id": "g4jpRZf1Tk6S",
        "outputId": "e7eb64a0-0853-43d4-8045-160266447d13"
      },
      "outputs": [
        {
          "data": {
            "text/plain": [
              "87"
            ]
          },
          "execution_count": 125,
          "metadata": {},
          "output_type": "execute_result"
        }
      ],
      "source": [
        "# Contar cantidad de duplicados en la columna 'id'\n",
        "dfcred['id'].duplicated(keep=False).sum()\n"
      ]
    },
    {
      "cell_type": "code",
      "execution_count": 126,
      "metadata": {
        "colab": {
          "base_uri": "https://localhost:8080/"
        },
        "id": "dM5X4cxARgDP",
        "outputId": "b0445639-5d49-492e-f25e-c0c90fb6ff84"
      },
      "outputs": [],
      "source": [
        "# Contar la frecuencia de cada 'id'\n",
        "frec_id = dfcred['id'].value_counts()"
      ]
    },
    {
      "cell_type": "code",
      "execution_count": 127,
      "metadata": {
        "id": "_bYwvNo_S1Vp"
      },
      "outputs": [
        {
          "name": "stdout",
          "output_type": "stream",
          "text": [
            "\n",
            "'id' repetidos:\n",
            "id\n",
            "141971    3\n",
            "298721    2\n",
            "9755      2\n",
            "10991     2\n",
            "99080     2\n",
            "152795    2\n",
            "22649     2\n",
            "18440     2\n",
            "5511      2\n",
            "132641    2\n",
            "105045    2\n",
            "159849    2\n",
            "187156    2\n",
            "43629     2\n",
            "8767      2\n",
            "123634    2\n",
            "157301    2\n",
            "4912      2\n",
            "142563    2\n",
            "42495     2\n",
            "11752     2\n",
            "84198     2\n",
            "24026     2\n",
            "110428    2\n",
            "24023     2\n",
            "199591    2\n",
            "125458    2\n",
            "3057      2\n",
            "116723    2\n",
            "23305     2\n",
            "97995     2\n",
            "168538    2\n",
            "12600     2\n",
            "14788     2\n",
            "69234     2\n",
            "13209     2\n",
            "15028     2\n",
            "109962    2\n",
            "265189    2\n",
            "25541     2\n",
            "119916    2\n",
            "11115     2\n",
            "77221     2\n",
            "Name: count, dtype: int64\n"
          ]
        }
      ],
      "source": [
        "# Filtrar solo los 'id' que se repiten\n",
        "id_rep = frec_id[frec_id > 1]\n",
        "\n",
        "print(\"\\n'id' repetidos:\")\n",
        "print(id_rep)"
      ]
    },
    {
      "cell_type": "code",
      "execution_count": 128,
      "metadata": {
        "colab": {
          "base_uri": "https://localhost:8080/"
        },
        "id": "lLILnzvATXzJ",
        "outputId": "e346d2dc-ed61-4ec4-db9b-b888f3467af4"
      },
      "outputs": [],
      "source": [
        "# Eliminar filas duplicadas basadas en la columna 'id', manteniendo la primera aparición\n",
        "\n",
        "dfcred_sd = dfcred.drop_duplicates(subset='id', keep='first') #df3_sd = df3 sin duplicados"
      ]
    },
    {
      "cell_type": "code",
      "execution_count": 129,
      "metadata": {
        "colab": {
          "base_uri": "https://localhost:8080/"
        },
        "id": "eQDRQBkrUXPD",
        "outputId": "fa71153a-0de2-4c18-8f0f-673dbf43f249"
      },
      "outputs": [
        {
          "data": {
            "text/plain": [
              "(45432, 3)"
            ]
          },
          "execution_count": 129,
          "metadata": {},
          "output_type": "execute_result"
        }
      ],
      "source": [
        "dfcred_sd.shape"
      ]
    },
    {
      "cell_type": "code",
      "execution_count": 130,
      "metadata": {
        "colab": {
          "base_uri": "https://localhost:8080/"
        },
        "id": "__KtzQ-xhxJt",
        "outputId": "5dc9ade3-a9c3-4d26-97da-cf555838a38a"
      },
      "outputs": [
        {
          "name": "stdout",
          "output_type": "stream",
          "text": [
            "Id duplicados en el dataframe movies:  0\n",
            "Id duplicados en el dataframe credicts:  0\n"
          ]
        }
      ],
      "source": [
        "#Comprobar si hay id duplicados en \"credits\" y en \"movies\"\n",
        "print('Id duplicados en el dataframe movies: ', dfmov_sd[dfmov_sd.duplicated(subset = 'id', keep = False)].shape[0])\n",
        "print('Id duplicados en el dataframe credicts: ', dfcred_sd[dfcred_sd.duplicated(subset = 'id', keep = False)].shape[0])"
      ]
    },
    {
      "cell_type": "markdown",
      "metadata": {
        "id": "kaB1zSbabl3S"
      },
      "source": [
        "#### Unimos los dataframes"
      ]
    },
    {
      "cell_type": "code",
      "execution_count": 131,
      "metadata": {
        "colab": {
          "base_uri": "https://localhost:8080/"
        },
        "id": "d6QNZHNebda5",
        "outputId": "7e8dc859-3877-4e78-e888-d10c0480bb00"
      },
      "outputs": [
        {
          "data": {
            "text/plain": [
              "Index(['budget', 'id', 'original_language', 'overview', 'popularity',\n",
              "       'release_date', 'revenue', 'runtime', 'status', 'tagline', 'title',\n",
              "       'vote_average', 'vote_count', 'name_coll', 'name_gen',\n",
              "       'production_companies', 'production_countries', 'languages', 'return',\n",
              "       'release_year'],\n",
              "      dtype='object')"
            ]
          },
          "execution_count": 131,
          "metadata": {},
          "output_type": "execute_result"
        }
      ],
      "source": [
        "dfmov_sd.columns"
      ]
    },
    {
      "cell_type": "code",
      "execution_count": 132,
      "metadata": {
        "colab": {
          "base_uri": "https://localhost:8080/"
        },
        "id": "0UJpTkgVcJTl",
        "outputId": "c493d70b-fbd8-4f47-ba93-279825ef5b7b"
      },
      "outputs": [
        {
          "data": {
            "text/plain": [
              "Index(['id', 'actors', 'director'], dtype='object')"
            ]
          },
          "execution_count": 132,
          "metadata": {},
          "output_type": "execute_result"
        }
      ],
      "source": [
        "dfcred_sd.columns"
      ]
    },
    {
      "cell_type": "code",
      "execution_count": 133,
      "metadata": {
        "id": "UcyDqJg6dcT2"
      },
      "outputs": [
        {
          "name": "stderr",
          "output_type": "stream",
          "text": [
            "C:\\Users\\USUARIO\\AppData\\Local\\Temp\\ipykernel_12792\\4293325507.py:2: SettingWithCopyWarning: \n",
            "A value is trying to be set on a copy of a slice from a DataFrame.\n",
            "Try using .loc[row_indexer,col_indexer] = value instead\n",
            "\n",
            "See the caveats in the documentation: https://pandas.pydata.org/pandas-docs/stable/user_guide/indexing.html#returning-a-view-versus-a-copy\n",
            "  dfmov_sd['id'] = dfmov_sd['id'].astype(int)\n",
            "C:\\Users\\USUARIO\\AppData\\Local\\Temp\\ipykernel_12792\\4293325507.py:3: SettingWithCopyWarning: \n",
            "A value is trying to be set on a copy of a slice from a DataFrame.\n",
            "Try using .loc[row_indexer,col_indexer] = value instead\n",
            "\n",
            "See the caveats in the documentation: https://pandas.pydata.org/pandas-docs/stable/user_guide/indexing.html#returning-a-view-versus-a-copy\n",
            "  dfcred_sd['id'] = dfcred_sd['id'].astype(int)\n"
          ]
        }
      ],
      "source": [
        "# Convertir la columna 'id' a tipo entero en ambos DataFrames\n",
        "dfmov_sd['id'] = dfmov_sd['id'].astype(int)\n",
        "dfcred_sd['id'] = dfcred_sd['id'].astype(int)"
      ]
    },
    {
      "cell_type": "code",
      "execution_count": 134,
      "metadata": {
        "colab": {
          "base_uri": "https://localhost:8080/"
        },
        "id": "mKW2hl_8c9Dg",
        "outputId": "b1c4a5b6-995b-41e4-f149-cceb9cdfa3ba"
      },
      "outputs": [],
      "source": [
        "# Unir los DataFrames en base a la columna 'id'\n",
        "df_merged = pd.merge(dfmov_sd, dfcred_sd, on='id', how='inner')\n",
        "\n"
      ]
    },
    {
      "cell_type": "code",
      "execution_count": 135,
      "metadata": {
        "colab": {
          "base_uri": "https://localhost:8080/",
          "height": 676
        },
        "id": "2IWjFdPCdz_T",
        "outputId": "b3b2652c-779c-4d0d-b724-7c5559e692e5"
      },
      "outputs": [
        {
          "data": {
            "text/html": [
              "<div>\n",
              "<style scoped>\n",
              "    .dataframe tbody tr th:only-of-type {\n",
              "        vertical-align: middle;\n",
              "    }\n",
              "\n",
              "    .dataframe tbody tr th {\n",
              "        vertical-align: top;\n",
              "    }\n",
              "\n",
              "    .dataframe thead th {\n",
              "        text-align: right;\n",
              "    }\n",
              "</style>\n",
              "<table border=\"1\" class=\"dataframe\">\n",
              "  <thead>\n",
              "    <tr style=\"text-align: right;\">\n",
              "      <th></th>\n",
              "      <th>budget</th>\n",
              "      <th>id</th>\n",
              "      <th>original_language</th>\n",
              "      <th>overview</th>\n",
              "      <th>popularity</th>\n",
              "      <th>release_date</th>\n",
              "      <th>revenue</th>\n",
              "      <th>runtime</th>\n",
              "      <th>status</th>\n",
              "      <th>tagline</th>\n",
              "      <th>...</th>\n",
              "      <th>vote_count</th>\n",
              "      <th>name_coll</th>\n",
              "      <th>name_gen</th>\n",
              "      <th>production_companies</th>\n",
              "      <th>production_countries</th>\n",
              "      <th>languages</th>\n",
              "      <th>return</th>\n",
              "      <th>release_year</th>\n",
              "      <th>actors</th>\n",
              "      <th>director</th>\n",
              "    </tr>\n",
              "  </thead>\n",
              "  <tbody>\n",
              "    <tr>\n",
              "      <th>0</th>\n",
              "      <td>30000000</td>\n",
              "      <td>862</td>\n",
              "      <td>en</td>\n",
              "      <td>Led by Woody, Andy's toys live happily in his ...</td>\n",
              "      <td>21.946943</td>\n",
              "      <td>1995-10-30</td>\n",
              "      <td>373554033.0</td>\n",
              "      <td>81.0</td>\n",
              "      <td>Released</td>\n",
              "      <td>NaN</td>\n",
              "      <td>...</td>\n",
              "      <td>5415.0</td>\n",
              "      <td>Toy Story Collection</td>\n",
              "      <td>Animation,Comedy,Family</td>\n",
              "      <td>Pixar Animation Studios</td>\n",
              "      <td>United States of America</td>\n",
              "      <td>English</td>\n",
              "      <td>12.451801</td>\n",
              "      <td>1995</td>\n",
              "      <td>Tom Hanks, Tim Allen, Don Rickles, Jim Varney,...</td>\n",
              "      <td>John Lasseter</td>\n",
              "    </tr>\n",
              "    <tr>\n",
              "      <th>1</th>\n",
              "      <td>65000000</td>\n",
              "      <td>8844</td>\n",
              "      <td>en</td>\n",
              "      <td>When siblings Judy and Peter discover an encha...</td>\n",
              "      <td>17.015539</td>\n",
              "      <td>1995-12-15</td>\n",
              "      <td>262797249.0</td>\n",
              "      <td>104.0</td>\n",
              "      <td>Released</td>\n",
              "      <td>Roll the dice and unleash the excitement!</td>\n",
              "      <td>...</td>\n",
              "      <td>2413.0</td>\n",
              "      <td>NaN</td>\n",
              "      <td>Adventure,Fantasy,Family</td>\n",
              "      <td>TriStar Pictures, Teitler Film, Interscope Com...</td>\n",
              "      <td>United States of America</td>\n",
              "      <td>English, Français</td>\n",
              "      <td>4.043035</td>\n",
              "      <td>1995</td>\n",
              "      <td>Robin Williams, Jonathan Hyde, Kirsten Dunst, ...</td>\n",
              "      <td>Joe Johnston</td>\n",
              "    </tr>\n",
              "    <tr>\n",
              "      <th>2</th>\n",
              "      <td>0</td>\n",
              "      <td>15602</td>\n",
              "      <td>en</td>\n",
              "      <td>A family wedding reignites the ancient feud be...</td>\n",
              "      <td>11.712900</td>\n",
              "      <td>1995-12-22</td>\n",
              "      <td>0.0</td>\n",
              "      <td>101.0</td>\n",
              "      <td>Released</td>\n",
              "      <td>Still Yelling. Still Fighting. Still Ready for...</td>\n",
              "      <td>...</td>\n",
              "      <td>92.0</td>\n",
              "      <td>Grumpy Old Men Collection</td>\n",
              "      <td>Romance,Comedy</td>\n",
              "      <td>Warner Bros., Lancaster Gate</td>\n",
              "      <td>United States of America</td>\n",
              "      <td>English</td>\n",
              "      <td>0.000000</td>\n",
              "      <td>1995</td>\n",
              "      <td>Walter Matthau, Jack Lemmon, Ann-Margret, Soph...</td>\n",
              "      <td>Howard Deutch</td>\n",
              "    </tr>\n",
              "    <tr>\n",
              "      <th>3</th>\n",
              "      <td>16000000</td>\n",
              "      <td>31357</td>\n",
              "      <td>en</td>\n",
              "      <td>Cheated on, mistreated and stepped on, the wom...</td>\n",
              "      <td>3.859495</td>\n",
              "      <td>1995-12-22</td>\n",
              "      <td>81452156.0</td>\n",
              "      <td>127.0</td>\n",
              "      <td>Released</td>\n",
              "      <td>Friends are the people who let you be yourself...</td>\n",
              "      <td>...</td>\n",
              "      <td>34.0</td>\n",
              "      <td>NaN</td>\n",
              "      <td>Comedy,Drama,Romance</td>\n",
              "      <td>Twentieth Century Fox Film Corporation</td>\n",
              "      <td>United States of America</td>\n",
              "      <td>English</td>\n",
              "      <td>5.090760</td>\n",
              "      <td>1995</td>\n",
              "      <td>Whitney Houston, Angela Bassett, Loretta Devin...</td>\n",
              "      <td>Forest Whitaker</td>\n",
              "    </tr>\n",
              "  </tbody>\n",
              "</table>\n",
              "<p>4 rows × 22 columns</p>\n",
              "</div>"
            ],
            "text/plain": [
              "     budget     id original_language  \\\n",
              "0  30000000    862                en   \n",
              "1  65000000   8844                en   \n",
              "2         0  15602                en   \n",
              "3  16000000  31357                en   \n",
              "\n",
              "                                            overview  popularity release_date  \\\n",
              "0  Led by Woody, Andy's toys live happily in his ...   21.946943   1995-10-30   \n",
              "1  When siblings Judy and Peter discover an encha...   17.015539   1995-12-15   \n",
              "2  A family wedding reignites the ancient feud be...   11.712900   1995-12-22   \n",
              "3  Cheated on, mistreated and stepped on, the wom...    3.859495   1995-12-22   \n",
              "\n",
              "       revenue  runtime    status  \\\n",
              "0  373554033.0     81.0  Released   \n",
              "1  262797249.0    104.0  Released   \n",
              "2          0.0    101.0  Released   \n",
              "3   81452156.0    127.0  Released   \n",
              "\n",
              "                                             tagline  ... vote_count  \\\n",
              "0                                                NaN  ...     5415.0   \n",
              "1          Roll the dice and unleash the excitement!  ...     2413.0   \n",
              "2  Still Yelling. Still Fighting. Still Ready for...  ...       92.0   \n",
              "3  Friends are the people who let you be yourself...  ...       34.0   \n",
              "\n",
              "                   name_coll                  name_gen  \\\n",
              "0       Toy Story Collection   Animation,Comedy,Family   \n",
              "1                        NaN  Adventure,Fantasy,Family   \n",
              "2  Grumpy Old Men Collection            Romance,Comedy   \n",
              "3                        NaN      Comedy,Drama,Romance   \n",
              "\n",
              "                                production_companies  \\\n",
              "0                            Pixar Animation Studios   \n",
              "1  TriStar Pictures, Teitler Film, Interscope Com...   \n",
              "2                       Warner Bros., Lancaster Gate   \n",
              "3             Twentieth Century Fox Film Corporation   \n",
              "\n",
              "       production_countries          languages     return release_year  \\\n",
              "0  United States of America            English  12.451801         1995   \n",
              "1  United States of America  English, Français   4.043035         1995   \n",
              "2  United States of America            English   0.000000         1995   \n",
              "3  United States of America            English   5.090760         1995   \n",
              "\n",
              "                                              actors         director  \n",
              "0  Tom Hanks, Tim Allen, Don Rickles, Jim Varney,...    John Lasseter  \n",
              "1  Robin Williams, Jonathan Hyde, Kirsten Dunst, ...     Joe Johnston  \n",
              "2  Walter Matthau, Jack Lemmon, Ann-Margret, Soph...    Howard Deutch  \n",
              "3  Whitney Houston, Angela Bassett, Loretta Devin...  Forest Whitaker  \n",
              "\n",
              "[4 rows x 22 columns]"
            ]
          },
          "execution_count": 135,
          "metadata": {},
          "output_type": "execute_result"
        }
      ],
      "source": [
        "df_merged[:4]"
      ]
    },
    {
      "cell_type": "markdown",
      "metadata": {
        "id": "90SHfvbyeBbB"
      },
      "source": [
        "#### Extraemos los datos para la Api"
      ]
    },
    {
      "cell_type": "code",
      "execution_count": 138,
      "metadata": {
        "colab": {
          "base_uri": "https://localhost:8080/"
        },
        "id": "zZZWrnsBeH5z",
        "outputId": "c682d550-ecd2-412a-f018-c9d38b3aa7f8"
      },
      "outputs": [],
      "source": [
        "df_api = df_merged[['budget', 'revenue', 'popularity' ,'release_date', 'title', 'vote_average', 'vote_count', 'actors',\n",
        "              'release_year', 'director', 'return' ]]"
      ]
    },
    {
      "cell_type": "code",
      "execution_count": 139,
      "metadata": {
        "colab": {
          "base_uri": "https://localhost:8080/"
        },
        "id": "Lmb3Uc-DerXZ",
        "outputId": "aca71004-140c-4582-fbea-8c77ce633eac"
      },
      "outputs": [],
      "source": [
        "#Exportar el dataframe final para la API\n",
        "df_api.to_parquet('Data_Api.parquet', index = False)"
      ]
    },
    {
      "cell_type": "code",
      "execution_count": 140,
      "metadata": {
        "colab": {
          "base_uri": "https://localhost:8080/"
        },
        "id": "3bnUf-gInOIp",
        "outputId": "2b7995e2-e3f9-4e2e-a5b0-2dc1f1ad746e"
      },
      "outputs": [],
      "source": [
        "#Exportar el dataframe final\n",
        "df_merged.to_parquet('Data_Movies.parquet', index = False)"
      ]
    },
    {
      "cell_type": "markdown",
      "metadata": {},
      "source": [
        "### Data Modelo recomendacion"
      ]
    },
    {
      "cell_type": "code",
      "execution_count": null,
      "metadata": {},
      "outputs": [],
      "source": [
        "# Se extraen las columnas necesarias para el Sistema de Recomendación\n",
        "model5 = df[['title', 'name_gen', 'tagline' ,'first_actor', 'first_director']]"
      ]
    },
    {
      "cell_type": "code",
      "execution_count": null,
      "metadata": {},
      "outputs": [],
      "source": [
        "# Se exportan los datos a formato parquet\n",
        "model5.to_parquet('Data_Modelo_Recomendacion.parquet')"
      ]
    }
  ],
  "metadata": {
    "colab": {
      "provenance": []
    },
    "kernelspec": {
      "display_name": "Python 3",
      "language": "python",
      "name": "python3"
    },
    "language_info": {
      "codemirror_mode": {
        "name": "ipython",
        "version": 3
      },
      "file_extension": ".py",
      "mimetype": "text/x-python",
      "name": "python",
      "nbconvert_exporter": "python",
      "pygments_lexer": "ipython3",
      "version": "3.12.2"
    }
  },
  "nbformat": 4,
  "nbformat_minor": 0
}
